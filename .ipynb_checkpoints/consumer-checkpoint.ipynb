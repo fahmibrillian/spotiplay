{
 "cells": [
  {
   "cell_type": "code",
   "execution_count": 1,
   "metadata": {},
   "outputs": [],
   "source": [
    "from pyspark.sql import SparkSession\n",
    "from pyspark.sql.functions import from_json, col\n",
    "from pyspark.sql.types import StructType, StructField, StringType, DoubleType\n",
    "\n",
    "spark = SparkSession.builder \\\n",
    "    .appName(\"SpotifyStreaming\") \\\n",
    "    .getOrCreate()"
   ]
  },
  {
   "cell_type": "code",
   "execution_count": 2,
   "metadata": {},
   "outputs": [
    {
     "name": "stdout",
     "output_type": "stream",
     "text": [
      "+--------------------+--------------------+-----------+--------------------+------------+------+--------+----+-----------+------------+----------------+--------+-------+-------+--------------------+\n",
      "|            track_id|          track_name|artist_name|         album_image|danceability|energy|loudness|mode|speechiness|acousticness|instrumentalness|liveness|valence|  tempo|           timestamp|\n",
      "+--------------------+--------------------+-----------+--------------------+------------+------+--------+----+-----------+------------+----------------+--------+-------+-------+--------------------+\n",
      "|004Y3CekHp5nFaKT3...|    sunday afternoon|       null|https://i.scdn.co...|       0.687| 0.151|  -17.09| 0.0|       0.12|       0.981|            0.69|  0.0925|  0.381| 81.117|2023-03-11 20:17:...|\n",
      "|6TYuszb6kOBCQm2Ar...|          Cloud Nine|       null|https://i.scdn.co...|       0.645| 0.429| -10.104| 1.0|      0.038|       0.919|           0.958|   0.117|  0.623| 87.005|2023-03-11 20:17:...|\n",
      "|6FYENg3JBGaVTKfUT...|           Afternoon|       null|https://i.scdn.co...|       0.797| 0.429|  -8.913| 0.0|       0.45|       0.759|         0.00478|   0.297|  0.345|165.072|2023-03-11 20:17:...|\n",
      "|5wqGP4hnECDxaO6bs...|   bloom. [intro...]|       null|https://i.scdn.co...|       0.819|  0.32| -16.552| 0.0|     0.0998|       0.973|           0.804|   0.141|  0.781| 85.017|2023-03-11 20:17:...|\n",
      "|07H3Mpy3KcHKCe7re...|            Sidewalk|       null|https://i.scdn.co...|       0.771| 0.373| -11.316| 0.0|      0.171|       0.834|           0.912|   0.105|  0.454| 81.011|2023-03-11 20:17:...|\n",
      "|1wJyxkcsUItaam9Ba...|    Faithful Mission|       null|https://i.scdn.co...|       0.677| 0.443| -13.612| 0.0|      0.077|       0.682|           0.889|   0.228|  0.726| 73.963|2023-03-11 20:17:...|\n",
      "|1uXWjpfJ3CynJ84t1...|          In My Head|       null|https://i.scdn.co...|       0.607| 0.487| -13.419| 1.0|     0.0296|       0.661|           0.884|   0.138|   0.22| 180.02|2023-03-11 20:17:...|\n",
      "|382b1ksiXzDrk23b8...|      Lazy Afternoon|       null|https://i.scdn.co...|       0.681| 0.232| -14.236| 1.0|     0.0694|       0.971|            0.84|  0.0939| 0.0918| 68.932|2023-03-11 20:17:...|\n",
      "|4lIF72WbFRnUQUsEa...|             Tanpopo|       null|https://i.scdn.co...|       0.827| 0.403| -18.307| 0.0|     0.0888|       0.911|           0.926|   0.341|  0.769|119.976|2023-03-11 20:17:...|\n",
      "|6TyNKENZ3rrnZklMz...|             3:03 PM|       null|https://i.scdn.co...|       0.778| 0.572| -10.016| 0.0|      0.148|       0.609|          0.0179|  0.0772|  0.797| 82.547|2023-03-11 20:17:...|\n",
      "|0a7QhVUK3GpphbE0I...|            nice day|       null|https://i.scdn.co...|       0.717| 0.234| -12.915| 1.0|      0.129|       0.799|           0.772|   0.114|  0.464| 91.999|2023-03-11 20:17:...|\n",
      "|46M3XitzFYF04nAvG...|                lazy|       null|https://i.scdn.co...|       0.812| 0.268| -12.834| 1.0|     0.0652|       0.513|           0.923|  0.0627|  0.645|145.989|2023-03-11 20:17:...|\n",
      "|5YtcQQJOSf0a785PT...|            I'm Fine|       null|https://i.scdn.co...|       0.947| 0.269|  -14.47| 1.0|     0.0682|       0.386|           0.868|   0.321|  0.369|121.664|2023-03-11 20:17:...|\n",
      "|2G2X5AMqBRE2PgS3q...|             2:23 AM|       null|https://i.scdn.co...|       0.587| 0.611|  -8.862| 1.0|     0.0739|       0.244|         2.88E-5|   0.238|  0.499|179.951|2023-03-11 20:17:...|\n",
      "|1m4mmA1KS5eV6RQlo...|Santa wa chuo-sen...|       null|https://i.scdn.co...|       0.695| 0.381|    -9.7| 0.0|     0.0295|      0.0337|         1.66E-4|   0.251|  0.714| 75.063|2023-03-11 20:17:...|\n",
      "|4pphSPxO0PVF7VYuC...|Samishii obake to...|       null|https://i.scdn.co...|       0.842| 0.472|  -9.516| 1.0|     0.0512|       0.223|           0.532|  0.0492|  0.671| 99.978|2023-03-11 20:16:...|\n",
      "|0vvetk7TH9oKHUCnC...|          You and Me|       null|https://i.scdn.co...|       0.702|   0.4| -10.849| 1.0|      0.416|         0.5|          0.0258|   0.131|  0.881| 80.004|2023-03-11 20:16:...|\n",
      "|7bZB7muJ2bTZjgVdD...|              Parade|       null|https://i.scdn.co...|       0.533| 0.817|  -8.564| 1.0|     0.0271|      0.0708|           0.523|   0.357|  0.761| 105.01|2023-03-11 20:16:...|\n",
      "|5MwotyIQgbctyVYxF...|Kamikakushi no sh...|       null|https://i.scdn.co...|       0.516| 0.674| -12.215| 0.0|     0.0372|       0.791|           0.896|  0.0827|  0.556|169.928|2023-03-11 20:16:...|\n",
      "|4aiRyhh4xoAlRuwMy...|Shumatsu Kyoto ge...|       null|https://i.scdn.co...|       0.714| 0.615|   -8.46| 1.0|     0.0305|       0.457|           0.617|   0.356|  0.682| 89.984|2023-03-11 20:16:...|\n",
      "+--------------------+--------------------+-----------+--------------------+------------+------+--------+----+-----------+------------+----------------+--------+-------+-------+--------------------+\n",
      "only showing top 20 rows\n",
      "\n"
     ]
    }
   ],
   "source": [
    "df = spark.read.parquet(\"/home/bigdata/spotiplay/data\")\n",
    "df.createOrReplaceTempView(\"songs\")\n",
    "df = df.sort(\"timestamp\", ascending=False)\n",
    "df.show()"
   ]
  },
  {
   "cell_type": "code",
   "execution_count": 3,
   "metadata": {},
   "outputs": [
    {
     "name": "stdout",
     "output_type": "stream",
     "text": [
      "+--------------------+--------------------+--------------------+--------------------+--------------------+-----------+-----------+--------+--------------+--------------------+--------------------+--------------------+--------+--------------------+----------+--------------------+------------+-----+--------------------+\n",
      "|                 _id|               album|             artists|      audio_features|   available_markets|disc_number|duration_ms|explicit|  external_ids|       external_urls|                href|                  id|is_local|                name|popularity|         preview_url|track_number| type|                 uri|\n",
      "+--------------------+--------------------+--------------------+--------------------+--------------------+-----------+-----------+--------+--------------+--------------------+--------------------+--------------------+--------+--------------------+----------+--------------------+------------+-----+--------------------+\n",
      "|[640c321fb08f031d...|[single, single, ...|[[[https://open.s...|[0.72, 0.415, 0, ...|[AR, AU, AT, BE, ...|          1|     156500|    true|[ZZOPM1901003]|[https://open.spo...|https://api.spoti...|50oEtTUNlce4TuZXQ...|   false|                 urs|        66|https://p.scdn.co...|           2|track|spotify:track:50o...|\n",
      "|[640c3220b08f031d...|[album, album, [[...|[[[https://open.s...|[0.873, 0.488, 7,...|[AR, AU, AT, BE, ...|          1|     219040|    true|[ZZOPM2236003]|[https://open.spo...|https://api.spoti...|1zxfRSZcaonV1VXcY...|   false|High School in Ja...|        68|https://p.scdn.co...|           2|track|spotify:track:1zx...|\n",
      "|[640c3221b08f031d...|[single, single, ...|[[[https://open.s...|[0.593, 0.901, 8,...|[AR, AU, AT, BE, ...|          1|     200966|   false|[QZNJW2143033]|[https://open.spo...|https://api.spoti...|6tXPUEElfHbLBJJah...|   false|   Sick Little Games|        56|https://p.scdn.co...|           1|track|spotify:track:6tX...|\n",
      "|[640c3221b08f031d...|[album, album, [[...|[[[https://open.s...|[0.635, 0.312, 7,...|[AR, AU, AT, BE, ...|          1|     240118|    true|[ZZOPM1901100]|[https://open.spo...|https://api.spoti...|6eDfe957aV4sqGnDh...|   false|          Drive Safe|        58|https://p.scdn.co...|           5|track|spotify:track:6eD...|\n",
      "|[640c3222b08f031d...|[single, single, ...|[[[https://open.s...|[0.606, 0.196, 1,...|[AR, AU, AT, BE, ...|          1|     208510|    true|[ZZOPM1901607]|[https://open.spo...|https://api.spoti...|5WkCcSa78lM1Ym4LX...|   false|La La Lost You - ...|        67|https://p.scdn.co...|           1|track|spotify:track:5Wk...|\n",
      "|[640c3223b08f031d...|[single, single, ...|[[[https://open.s...|[0.923, 0.508, 1,...|[AR, AU, AT, BE, ...|          1|     126666|    true|[USUYG1096615]|[https://open.spo...|https://api.spoti...|4bdJHQp90ymjEIkkY...|   false|           Dat $tick|        59|https://p.scdn.co...|           1|track|spotify:track:4bd...|\n",
      "|[640c3223b08f031d...|[single, single, ...|[[[https://open.s...|[0.49, 0.857, 3, ...|[AR, AU, AT, BE, ...|          1|     173693|   false|[US7VG2166033]|[https://open.spo...|https://api.spoti...|30Elt09LwfGUac6NV...|   false|Let This Love Lie...|        55|https://p.scdn.co...|           5|track|spotify:track:30E...|\n",
      "|[640c3224b08f031d...|[album, album, [[...|[[[https://open.s...|[0.836, 0.686, 1,...|[AR, AU, AT, BE, ...|          1|     222258|    true|[USUYG1181125]|[https://open.spo...|https://api.spoti...|3qbqWUDl9j09PeBaQ...|   false|Introvert (feat. ...|        57|https://p.scdn.co...|           4|track|spotify:track:3qb...|\n",
      "|[640c3225b08f031d...|[single, single, ...|[[[https://open.s...|[0.371, 0.937, 9,...|[AR, AU, AT, BE, ...|          1|     172013|   false|[QZHZ32010679]|[https://open.spo...|https://api.spoti...|69xq52Yl3XgWRPIAO...|   false|    In Loving Memory|        55|https://p.scdn.co...|           1|track|spotify:track:69x...|\n",
      "|[640c3225b08f031d...|[compilation, com...|[[[https://open.s...|[0.472, 0.283, 7,...|[AE, AL, AR, AT, ...|          1|     229500|   false|[IDUM72100487]|[https://open.spo...|https://api.spoti...|6xBaRnPbkmKhvdiyN...|   false|         Menjadi Dia|         0|https://p.scdn.co...|          19|track|spotify:track:6xB...|\n",
      "|[640c3226b08f031d...|[compilation, com...|[[[https://open.s...|[0.386, 0.416, 4,...|[AE, AL, AR, AT, ...|          1|     220250|   false|[IDUM72100488]|[https://open.spo...|https://api.spoti...|6fot9q3jSwexm2Kyl...|   false|        Merasa Indah|         0|https://p.scdn.co...|          12|track|spotify:track:6fo...|\n",
      "|[640c3226b08f031d...|[compilation, com...|[[[https://open.s...|[0.474, 0.411, 4,...|[AE, AL, AR, AT, ...|          1|     261000|   false|[IDUM72100493]|[https://open.spo...|https://api.spoti...|3aP3UBGN4d7wLAin3...|   false|         Janji Setia|         0|https://p.scdn.co...|          17|track|spotify:track:3aP...|\n",
      "|[640c3227b08f031d...|[single, single, ...|[[[https://open.s...|[0.571, 0.661, 6,...|[AR, AU, AT, BE, ...|          1|     193120|    true|[USWB12207024]|[https://open.spo...|https://api.spoti...|5XB4g7ZqHcn84DFJX...|   false|               VIVID|        53|https://p.scdn.co...|           1|track|spotify:track:5XB...|\n",
      "|[640c3228b08f031d...|[single, single, ...|[[[https://open.s...|[0.46, 0.113, 2, ...|[AR, AU, AT, BE, ...|          1|     155402|   false|[QZ22B1898064]|[https://open.spo...|https://api.spoti...|0flo3KqhjkcuoB1G6...|   false|  Fly Me to the Moon|        64|https://p.scdn.co...|           1|track|spotify:track:0fl...|\n",
      "|[640c3228b08f031d...|[single, single, ...|[[[https://open.s...|[0.531, 0.401, 7,...|[AR, AU, AT, BE, ...|          1|     187918|   false|[QZ99L2141701]|[https://open.spo...|https://api.spoti...|70Vjb8pcNJT2HVfDL...|   false| Like All My Friends|        57|https://p.scdn.co...|           1|track|spotify:track:70V...|\n",
      "|[640c3229b08f031d...|[single, single, ...|[[[https://open.s...|[0.395, 0.309, 1,...|[AR, AU, AT, BE, ...|          1|     336000|   false|[ZZOPM2234425]|[https://open.spo...|https://api.spoti...|3vZk7OAUjMtVDNC85...|   false|    Oceans & Engines|        64|https://p.scdn.co...|           1|track|spotify:track:3vZ...|\n",
      "|[640c322ab08f031d...|[single, single, ...|[[[https://open.s...|[0.721, 0.758, 9,...|[AR, AU, AT, BE, ...|          1|     110091|    true|[USWB12300184]|[https://open.spo...|https://api.spoti...|0M4PHkYu3loA8rtjr...|   false|  Sundance Freestyle|        55|https://p.scdn.co...|           1|track|spotify:track:0M4...|\n",
      "|[640c322ab08f031d...|[single, single, ...|[[[https://open.s...|[0.871, 0.485, 7,...|[AR, AU, AT, BE, ...|          1|     219036|    true|[ZZOPM2236003]|[https://open.spo...|https://api.spoti...|5rbuv6zso7QSaKt26...|   false|High School in Ja...|        68|https://p.scdn.co...|           1|track|spotify:track:5rb...|\n",
      "|[640c322bb08f031d...|[album, album, [[...|[[[https://open.s...|[0.771, 0.816, 2,...|[AR, AU, AT, BE, ...|          1|     177320|   false|[USUYG1195549]|[https://open.spo...|https://api.spoti...|1NCUe90ZCiWTnWn3u...|   false|             Vintage|        58|https://p.scdn.co...|           5|track|spotify:track:1NC...|\n",
      "|[640c322cb08f031d...|[album, album, [[...|[[[https://open.s...|[0.651, 0.627, 7,...|[AR, AU, AT, BE, ...|          1|     177720|    true|[ZZOPM2236005]|[https://open.spo...|https://api.spoti...|2zz4plJxtgMIsQg5S...|   false|        Keeping Tabs|        58|https://p.scdn.co...|           4|track|spotify:track:2zz...|\n",
      "+--------------------+--------------------+--------------------+--------------------+--------------------+-----------+-----------+--------+--------------+--------------------+--------------------+--------------------+--------+--------------------+----------+--------------------+------------+-----+--------------------+\n",
      "only showing top 20 rows\n",
      "\n"
     ]
    }
   ],
   "source": [
    "mongo_uri = \"mongodb://localhost:27017/spotiplay.tracks\"\n",
    "mongo_conf = {\"spark.mongodb.input.uri\": mongo_uri}\n",
    "df_tracks = spark.read.format(\"com.mongodb.spark.sql.DefaultSource\") \\\n",
    "             .options(**mongo_conf) \\\n",
    "             .load()\n",
    "             \n",
    "df_tracks.createOrReplaceTempView(\"tracks\")\n",
    "df_tracks.show()"
   ]
  },
  {
   "cell_type": "code",
   "execution_count": null,
   "metadata": {},
   "outputs": [],
   "source": []
  }
 ],
 "metadata": {
  "kernelspec": {
   "display_name": "Python 3",
   "language": "python",
   "name": "python3"
  },
  "language_info": {
   "codemirror_mode": {
    "name": "ipython",
    "version": 3
   },
   "file_extension": ".py",
   "mimetype": "text/x-python",
   "name": "python",
   "nbconvert_exporter": "python",
   "pygments_lexer": "ipython3",
   "version": "3.7.4"
  },
  "vscode": {
   "interpreter": {
    "hash": "7e9b8e52f303c93a13f8d6d945738d91211aad0184906d5189f93e8d39255a5b"
   }
  }
 },
 "nbformat": 4,
 "nbformat_minor": 2
}
