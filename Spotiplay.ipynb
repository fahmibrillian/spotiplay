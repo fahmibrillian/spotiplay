{
 "cells": [
  {
   "cell_type": "markdown",
   "metadata": {},
   "source": [
    "### Membuat Spark Context untuk aplikasi Spotiplay"
   ]
  },
  {
   "cell_type": "code",
   "execution_count": 3,
   "metadata": {},
   "outputs": [],
   "source": [
    "from pyspark.sql import SparkSession\n",
    "from pyspark.sql.functions import from_json, col\n",
    "from pyspark.sql.types import StructType, StructField, StringType, DoubleType\n",
    "from pyspark.sql.functions import current_timestamp\n",
    "\n",
    "spark = SparkSession.builder \\\n",
    "    .appName(\"SpotifyStreaming\") \\\n",
    "    .config(\"spark.jars.packages\", \"org.mongodb.spark:mongo-spark-connector_2.11:2.4.1,org.apache.spark:spark-sql-kafka-0-10_2.11:2.4.5\") \\\n",
    "    .getOrCreate()"
   ]
  },
  {
   "cell_type": "code",
   "execution_count": 4,
   "metadata": {},
   "outputs": [
    {
     "name": "stdout",
     "output_type": "stream",
     "text": [
      "file:///home/bigdata/.ivy2/jars/org.mongodb.spark_mongo-spark-connector_2.11-2.4.1.jar,file:///home/bigdata/.ivy2/jars/org.apache.spark_spark-sql-kafka-0-10_2.11-2.4.5.jar,file:///home/bigdata/.ivy2/jars/org.mongodb_mongo-java-driver-3.10.2.jar,file:///home/bigdata/.ivy2/jars/org.apache.kafka_kafka-clients-2.0.0.jar,file:///home/bigdata/.ivy2/jars/org.spark-project.spark_unused-1.0.0.jar,file:///home/bigdata/.ivy2/jars/org.lz4_lz4-java-1.4.0.jar,file:///home/bigdata/.ivy2/jars/org.xerial.snappy_snappy-java-1.1.7.3.jar,file:///home/bigdata/.ivy2/jars/org.slf4j_slf4j-api-1.7.16.jar\n"
     ]
    }
   ],
   "source": [
    "print(spark.sparkContext.getConf().get('spark.jars'))"
   ]
  },
  {
   "cell_type": "markdown",
   "metadata": {},
   "source": [
    "## Latest Played Streaming"
   ]
  },
  {
   "cell_type": "code",
   "execution_count": 5,
   "metadata": {},
   "outputs": [
    {
     "ename": "KeyboardInterrupt",
     "evalue": "",
     "output_type": "error",
     "traceback": [
      "\u001b[0;31m---------------------------------------------------------------------------\u001b[0m",
      "\u001b[0;31mKeyboardInterrupt\u001b[0m                         Traceback (most recent call last)",
      "\u001b[0;32m<ipython-input-5-514ffa0cad39>\u001b[0m in \u001b[0;36m<module>\u001b[0;34m\u001b[0m\n\u001b[1;32m     52\u001b[0m     \u001b[0;34m.\u001b[0m\u001b[0mstart\u001b[0m\u001b[0;34m(\u001b[0m\u001b[0;34m)\u001b[0m\u001b[0;34m\u001b[0m\u001b[0;34m\u001b[0m\u001b[0m\n\u001b[1;32m     53\u001b[0m \u001b[0;34m\u001b[0m\u001b[0m\n\u001b[0;32m---> 54\u001b[0;31m \u001b[0mquery\u001b[0m\u001b[0;34m.\u001b[0m\u001b[0mawaitTermination\u001b[0m\u001b[0;34m(\u001b[0m\u001b[0;34m)\u001b[0m\u001b[0;34m\u001b[0m\u001b[0;34m\u001b[0m\u001b[0m\n\u001b[0m",
      "\u001b[0;32m~/spark-2.4.7-bin-hadoop2.7/python/pyspark/sql/streaming.py\u001b[0m in \u001b[0;36mawaitTermination\u001b[0;34m(self, timeout)\u001b[0m\n\u001b[1;32m    101\u001b[0m             \u001b[0;32mreturn\u001b[0m \u001b[0mself\u001b[0m\u001b[0;34m.\u001b[0m\u001b[0m_jsq\u001b[0m\u001b[0;34m.\u001b[0m\u001b[0mawaitTermination\u001b[0m\u001b[0;34m(\u001b[0m\u001b[0mint\u001b[0m\u001b[0;34m(\u001b[0m\u001b[0mtimeout\u001b[0m \u001b[0;34m*\u001b[0m \u001b[0;36m1000\u001b[0m\u001b[0;34m)\u001b[0m\u001b[0;34m)\u001b[0m\u001b[0;34m\u001b[0m\u001b[0;34m\u001b[0m\u001b[0m\n\u001b[1;32m    102\u001b[0m         \u001b[0;32melse\u001b[0m\u001b[0;34m:\u001b[0m\u001b[0;34m\u001b[0m\u001b[0;34m\u001b[0m\u001b[0m\n\u001b[0;32m--> 103\u001b[0;31m             \u001b[0;32mreturn\u001b[0m \u001b[0mself\u001b[0m\u001b[0;34m.\u001b[0m\u001b[0m_jsq\u001b[0m\u001b[0;34m.\u001b[0m\u001b[0mawaitTermination\u001b[0m\u001b[0;34m(\u001b[0m\u001b[0;34m)\u001b[0m\u001b[0;34m\u001b[0m\u001b[0;34m\u001b[0m\u001b[0m\n\u001b[0m\u001b[1;32m    104\u001b[0m \u001b[0;34m\u001b[0m\u001b[0m\n\u001b[1;32m    105\u001b[0m     \u001b[0;34m@\u001b[0m\u001b[0mproperty\u001b[0m\u001b[0;34m\u001b[0m\u001b[0;34m\u001b[0m\u001b[0m\n",
      "\u001b[0;32m~/anaconda3/lib/python3.7/site-packages/py4j/java_gateway.py\u001b[0m in \u001b[0;36m__call__\u001b[0;34m(self, *args)\u001b[0m\n\u001b[1;32m   1301\u001b[0m             \u001b[0mproto\u001b[0m\u001b[0;34m.\u001b[0m\u001b[0mEND_COMMAND_PART\u001b[0m\u001b[0;34m\u001b[0m\u001b[0;34m\u001b[0m\u001b[0m\n\u001b[1;32m   1302\u001b[0m \u001b[0;34m\u001b[0m\u001b[0m\n\u001b[0;32m-> 1303\u001b[0;31m         \u001b[0manswer\u001b[0m \u001b[0;34m=\u001b[0m \u001b[0mself\u001b[0m\u001b[0;34m.\u001b[0m\u001b[0mgateway_client\u001b[0m\u001b[0;34m.\u001b[0m\u001b[0msend_command\u001b[0m\u001b[0;34m(\u001b[0m\u001b[0mcommand\u001b[0m\u001b[0;34m)\u001b[0m\u001b[0;34m\u001b[0m\u001b[0;34m\u001b[0m\u001b[0m\n\u001b[0m\u001b[1;32m   1304\u001b[0m         return_value = get_return_value(\n\u001b[1;32m   1305\u001b[0m             answer, self.gateway_client, self.target_id, self.name)\n",
      "\u001b[0;32m~/anaconda3/lib/python3.7/site-packages/py4j/java_gateway.py\u001b[0m in \u001b[0;36msend_command\u001b[0;34m(self, command, retry, binary)\u001b[0m\n\u001b[1;32m   1031\u001b[0m         \u001b[0mconnection\u001b[0m \u001b[0;34m=\u001b[0m \u001b[0mself\u001b[0m\u001b[0;34m.\u001b[0m\u001b[0m_get_connection\u001b[0m\u001b[0;34m(\u001b[0m\u001b[0;34m)\u001b[0m\u001b[0;34m\u001b[0m\u001b[0;34m\u001b[0m\u001b[0m\n\u001b[1;32m   1032\u001b[0m         \u001b[0;32mtry\u001b[0m\u001b[0;34m:\u001b[0m\u001b[0;34m\u001b[0m\u001b[0;34m\u001b[0m\u001b[0m\n\u001b[0;32m-> 1033\u001b[0;31m             \u001b[0mresponse\u001b[0m \u001b[0;34m=\u001b[0m \u001b[0mconnection\u001b[0m\u001b[0;34m.\u001b[0m\u001b[0msend_command\u001b[0m\u001b[0;34m(\u001b[0m\u001b[0mcommand\u001b[0m\u001b[0;34m)\u001b[0m\u001b[0;34m\u001b[0m\u001b[0;34m\u001b[0m\u001b[0m\n\u001b[0m\u001b[1;32m   1034\u001b[0m             \u001b[0;32mif\u001b[0m \u001b[0mbinary\u001b[0m\u001b[0;34m:\u001b[0m\u001b[0;34m\u001b[0m\u001b[0;34m\u001b[0m\u001b[0m\n\u001b[1;32m   1035\u001b[0m                 \u001b[0;32mreturn\u001b[0m \u001b[0mresponse\u001b[0m\u001b[0;34m,\u001b[0m \u001b[0mself\u001b[0m\u001b[0;34m.\u001b[0m\u001b[0m_create_connection_guard\u001b[0m\u001b[0;34m(\u001b[0m\u001b[0mconnection\u001b[0m\u001b[0;34m)\u001b[0m\u001b[0;34m\u001b[0m\u001b[0;34m\u001b[0m\u001b[0m\n",
      "\u001b[0;32m~/anaconda3/lib/python3.7/site-packages/py4j/java_gateway.py\u001b[0m in \u001b[0;36msend_command\u001b[0;34m(self, command)\u001b[0m\n\u001b[1;32m   1198\u001b[0m \u001b[0;34m\u001b[0m\u001b[0m\n\u001b[1;32m   1199\u001b[0m         \u001b[0;32mtry\u001b[0m\u001b[0;34m:\u001b[0m\u001b[0;34m\u001b[0m\u001b[0;34m\u001b[0m\u001b[0m\n\u001b[0;32m-> 1200\u001b[0;31m             \u001b[0manswer\u001b[0m \u001b[0;34m=\u001b[0m \u001b[0msmart_decode\u001b[0m\u001b[0;34m(\u001b[0m\u001b[0mself\u001b[0m\u001b[0;34m.\u001b[0m\u001b[0mstream\u001b[0m\u001b[0;34m.\u001b[0m\u001b[0mreadline\u001b[0m\u001b[0;34m(\u001b[0m\u001b[0;34m)\u001b[0m\u001b[0;34m[\u001b[0m\u001b[0;34m:\u001b[0m\u001b[0;34m-\u001b[0m\u001b[0;36m1\u001b[0m\u001b[0;34m]\u001b[0m\u001b[0;34m)\u001b[0m\u001b[0;34m\u001b[0m\u001b[0;34m\u001b[0m\u001b[0m\n\u001b[0m\u001b[1;32m   1201\u001b[0m             \u001b[0mlogger\u001b[0m\u001b[0;34m.\u001b[0m\u001b[0mdebug\u001b[0m\u001b[0;34m(\u001b[0m\u001b[0;34m\"Answer received: {0}\"\u001b[0m\u001b[0;34m.\u001b[0m\u001b[0mformat\u001b[0m\u001b[0;34m(\u001b[0m\u001b[0manswer\u001b[0m\u001b[0;34m)\u001b[0m\u001b[0;34m)\u001b[0m\u001b[0;34m\u001b[0m\u001b[0;34m\u001b[0m\u001b[0m\n\u001b[1;32m   1202\u001b[0m             \u001b[0;32mif\u001b[0m \u001b[0manswer\u001b[0m\u001b[0;34m.\u001b[0m\u001b[0mstartswith\u001b[0m\u001b[0;34m(\u001b[0m\u001b[0mproto\u001b[0m\u001b[0;34m.\u001b[0m\u001b[0mRETURN_MESSAGE\u001b[0m\u001b[0;34m)\u001b[0m\u001b[0;34m:\u001b[0m\u001b[0;34m\u001b[0m\u001b[0;34m\u001b[0m\u001b[0m\n",
      "\u001b[0;32m~/anaconda3/lib/python3.7/socket.py\u001b[0m in \u001b[0;36mreadinto\u001b[0;34m(self, b)\u001b[0m\n\u001b[1;32m    587\u001b[0m         \u001b[0;32mwhile\u001b[0m \u001b[0;32mTrue\u001b[0m\u001b[0;34m:\u001b[0m\u001b[0;34m\u001b[0m\u001b[0;34m\u001b[0m\u001b[0m\n\u001b[1;32m    588\u001b[0m             \u001b[0;32mtry\u001b[0m\u001b[0;34m:\u001b[0m\u001b[0;34m\u001b[0m\u001b[0;34m\u001b[0m\u001b[0m\n\u001b[0;32m--> 589\u001b[0;31m                 \u001b[0;32mreturn\u001b[0m \u001b[0mself\u001b[0m\u001b[0;34m.\u001b[0m\u001b[0m_sock\u001b[0m\u001b[0;34m.\u001b[0m\u001b[0mrecv_into\u001b[0m\u001b[0;34m(\u001b[0m\u001b[0mb\u001b[0m\u001b[0;34m)\u001b[0m\u001b[0;34m\u001b[0m\u001b[0;34m\u001b[0m\u001b[0m\n\u001b[0m\u001b[1;32m    590\u001b[0m             \u001b[0;32mexcept\u001b[0m \u001b[0mtimeout\u001b[0m\u001b[0;34m:\u001b[0m\u001b[0;34m\u001b[0m\u001b[0;34m\u001b[0m\u001b[0m\n\u001b[1;32m    591\u001b[0m                 \u001b[0mself\u001b[0m\u001b[0;34m.\u001b[0m\u001b[0m_timeout_occurred\u001b[0m \u001b[0;34m=\u001b[0m \u001b[0;32mTrue\u001b[0m\u001b[0;34m\u001b[0m\u001b[0;34m\u001b[0m\u001b[0m\n",
      "\u001b[0;31mKeyboardInterrupt\u001b[0m: "
     ]
    }
   ],
   "source": [
    "# Define the schema for the streaming DataFrame\n",
    "schema = StructType([\n",
    "    StructField(\"track_id\", StringType()),\n",
    "    StructField(\"track_name\", StringType()),\n",
    "    StructField(\"artist_name\", StringType()),\n",
    "    StructField(\"album_image\", StringType()),\n",
    "    StructField(\"danceability\", DoubleType()),\n",
    "    StructField(\"energy\", DoubleType()),\n",
    "    StructField(\"loudness\", DoubleType()),\n",
    "    StructField(\"mode\", DoubleType()),\n",
    "    StructField(\"speechiness\", DoubleType()),\n",
    "    StructField(\"acousticness\", DoubleType()),\n",
    "    StructField(\"instrumentalness\", DoubleType()),\n",
    "    StructField(\"liveness\", DoubleType()),\n",
    "    StructField(\"valence\", DoubleType()),\n",
    "    StructField(\"tempo\", DoubleType())\n",
    "])\n",
    "\n",
    "# Create the streaming DataFrame\n",
    "df = spark.readStream \\\n",
    "    .format(\"kafka\") \\\n",
    "    .option(\"kafka.bootstrap.servers\", \"localhost:9092\") \\\n",
    "    .option(\"subscribe\", \"latest_tracks\") \\\n",
    "    .option(\"startingOffsets\", \"latest\") \\\n",
    "    .load() \\\n",
    "    .select(from_json(col(\"value\").cast(\"string\"), schema).alias(\"data\")) \\\n",
    "    .selectExpr(\"data.*\")\n",
    "    \n",
    "#add timestamp\n",
    "df = df.withColumn(\"timestamp\", current_timestamp())\n",
    "    \n",
    "\n",
    "# Print the streaming DataFrame to the console\n",
    "# query = df.writeStream \\\n",
    "#     .outputMode(\"append\") \\\n",
    "#     .format(\"console\") \\\n",
    "#     .start()\n",
    "    \n",
    "df.createOrReplaceTempView(\"songs\")\n",
    "songs = spark.sql(\"SELECT * FROM songs\")\n",
    "# query = songs.writeStream \\\n",
    "#     .format(\"memory\") \\\n",
    "#     .queryName(\"latest_played\") \\\n",
    "#     .outputMode(\"append\") \\\n",
    "#     .start()\n",
    "query = songs.writeStream \\\n",
    "    .format(\"parquet\") \\\n",
    "    .option(\"path\", \"/home/bigdata/spotiplay/data\") \\\n",
    "    .option(\"checkpointLocation\", \"/home/bigdata/spotiplay/checkpoint\") \\\n",
    "    .queryName(\"latest_played\") \\\n",
    "    .outputMode(\"append\") \\\n",
    "    .start()\n",
    "\n",
    "query.awaitTermination()"
   ]
  },
  {
   "attachments": {},
   "cell_type": "markdown",
   "metadata": {},
   "source": [
    "### Get From parquet"
   ]
  },
  {
   "cell_type": "code",
   "execution_count": 6,
   "metadata": {},
   "outputs": [
    {
     "ename": "KeyboardInterrupt",
     "evalue": "",
     "output_type": "error",
     "traceback": [
      "\u001b[0;31m---------------------------------------------------------------------------\u001b[0m",
      "\u001b[0;31mKeyboardInterrupt\u001b[0m                         Traceback (most recent call last)",
      "\u001b[0;32m<ipython-input-6-fff88c6f6247>\u001b[0m in \u001b[0;36m<module>\u001b[0;34m\u001b[0m\n\u001b[1;32m      2\u001b[0m \u001b[0mdf\u001b[0m\u001b[0;34m.\u001b[0m\u001b[0mcreateOrReplaceTempView\u001b[0m\u001b[0;34m(\u001b[0m\u001b[0;34m\"songs\"\u001b[0m\u001b[0;34m)\u001b[0m\u001b[0;34m\u001b[0m\u001b[0;34m\u001b[0m\u001b[0m\n\u001b[1;32m      3\u001b[0m \u001b[0mdf\u001b[0m \u001b[0;34m=\u001b[0m \u001b[0mdf\u001b[0m\u001b[0;34m.\u001b[0m\u001b[0msort\u001b[0m\u001b[0;34m(\u001b[0m\u001b[0;34m\"timestamp\"\u001b[0m\u001b[0;34m,\u001b[0m \u001b[0mascending\u001b[0m\u001b[0;34m=\u001b[0m\u001b[0;32mFalse\u001b[0m\u001b[0;34m)\u001b[0m\u001b[0;34m\u001b[0m\u001b[0;34m\u001b[0m\u001b[0m\n\u001b[0;32m----> 4\u001b[0;31m \u001b[0mdf\u001b[0m\u001b[0;34m.\u001b[0m\u001b[0mshow\u001b[0m\u001b[0;34m(\u001b[0m\u001b[0;34m)\u001b[0m\u001b[0;34m\u001b[0m\u001b[0;34m\u001b[0m\u001b[0m\n\u001b[0m",
      "\u001b[0;32m~/spark-2.4.7-bin-hadoop2.7/python/pyspark/sql/dataframe.py\u001b[0m in \u001b[0;36mshow\u001b[0;34m(self, n, truncate, vertical)\u001b[0m\n\u001b[1;32m    379\u001b[0m         \"\"\"\n\u001b[1;32m    380\u001b[0m         \u001b[0;32mif\u001b[0m \u001b[0misinstance\u001b[0m\u001b[0;34m(\u001b[0m\u001b[0mtruncate\u001b[0m\u001b[0;34m,\u001b[0m \u001b[0mbool\u001b[0m\u001b[0;34m)\u001b[0m \u001b[0;32mand\u001b[0m \u001b[0mtruncate\u001b[0m\u001b[0;34m:\u001b[0m\u001b[0;34m\u001b[0m\u001b[0;34m\u001b[0m\u001b[0m\n\u001b[0;32m--> 381\u001b[0;31m             \u001b[0mprint\u001b[0m\u001b[0;34m(\u001b[0m\u001b[0mself\u001b[0m\u001b[0;34m.\u001b[0m\u001b[0m_jdf\u001b[0m\u001b[0;34m.\u001b[0m\u001b[0mshowString\u001b[0m\u001b[0;34m(\u001b[0m\u001b[0mn\u001b[0m\u001b[0;34m,\u001b[0m \u001b[0;36m20\u001b[0m\u001b[0;34m,\u001b[0m \u001b[0mvertical\u001b[0m\u001b[0;34m)\u001b[0m\u001b[0;34m)\u001b[0m\u001b[0;34m\u001b[0m\u001b[0;34m\u001b[0m\u001b[0m\n\u001b[0m\u001b[1;32m    382\u001b[0m         \u001b[0;32melse\u001b[0m\u001b[0;34m:\u001b[0m\u001b[0;34m\u001b[0m\u001b[0;34m\u001b[0m\u001b[0m\n\u001b[1;32m    383\u001b[0m             \u001b[0mprint\u001b[0m\u001b[0;34m(\u001b[0m\u001b[0mself\u001b[0m\u001b[0;34m.\u001b[0m\u001b[0m_jdf\u001b[0m\u001b[0;34m.\u001b[0m\u001b[0mshowString\u001b[0m\u001b[0;34m(\u001b[0m\u001b[0mn\u001b[0m\u001b[0;34m,\u001b[0m \u001b[0mint\u001b[0m\u001b[0;34m(\u001b[0m\u001b[0mtruncate\u001b[0m\u001b[0;34m)\u001b[0m\u001b[0;34m,\u001b[0m \u001b[0mvertical\u001b[0m\u001b[0;34m)\u001b[0m\u001b[0;34m)\u001b[0m\u001b[0;34m\u001b[0m\u001b[0;34m\u001b[0m\u001b[0m\n",
      "\u001b[0;32m~/anaconda3/lib/python3.7/site-packages/py4j/java_gateway.py\u001b[0m in \u001b[0;36m__call__\u001b[0;34m(self, *args)\u001b[0m\n\u001b[1;32m   1301\u001b[0m             \u001b[0mproto\u001b[0m\u001b[0;34m.\u001b[0m\u001b[0mEND_COMMAND_PART\u001b[0m\u001b[0;34m\u001b[0m\u001b[0;34m\u001b[0m\u001b[0m\n\u001b[1;32m   1302\u001b[0m \u001b[0;34m\u001b[0m\u001b[0m\n\u001b[0;32m-> 1303\u001b[0;31m         \u001b[0manswer\u001b[0m \u001b[0;34m=\u001b[0m \u001b[0mself\u001b[0m\u001b[0;34m.\u001b[0m\u001b[0mgateway_client\u001b[0m\u001b[0;34m.\u001b[0m\u001b[0msend_command\u001b[0m\u001b[0;34m(\u001b[0m\u001b[0mcommand\u001b[0m\u001b[0;34m)\u001b[0m\u001b[0;34m\u001b[0m\u001b[0;34m\u001b[0m\u001b[0m\n\u001b[0m\u001b[1;32m   1304\u001b[0m         return_value = get_return_value(\n\u001b[1;32m   1305\u001b[0m             answer, self.gateway_client, self.target_id, self.name)\n",
      "\u001b[0;32m~/anaconda3/lib/python3.7/site-packages/py4j/java_gateway.py\u001b[0m in \u001b[0;36msend_command\u001b[0;34m(self, command, retry, binary)\u001b[0m\n\u001b[1;32m   1031\u001b[0m         \u001b[0mconnection\u001b[0m \u001b[0;34m=\u001b[0m \u001b[0mself\u001b[0m\u001b[0;34m.\u001b[0m\u001b[0m_get_connection\u001b[0m\u001b[0;34m(\u001b[0m\u001b[0;34m)\u001b[0m\u001b[0;34m\u001b[0m\u001b[0;34m\u001b[0m\u001b[0m\n\u001b[1;32m   1032\u001b[0m         \u001b[0;32mtry\u001b[0m\u001b[0;34m:\u001b[0m\u001b[0;34m\u001b[0m\u001b[0;34m\u001b[0m\u001b[0m\n\u001b[0;32m-> 1033\u001b[0;31m             \u001b[0mresponse\u001b[0m \u001b[0;34m=\u001b[0m \u001b[0mconnection\u001b[0m\u001b[0;34m.\u001b[0m\u001b[0msend_command\u001b[0m\u001b[0;34m(\u001b[0m\u001b[0mcommand\u001b[0m\u001b[0;34m)\u001b[0m\u001b[0;34m\u001b[0m\u001b[0;34m\u001b[0m\u001b[0m\n\u001b[0m\u001b[1;32m   1034\u001b[0m             \u001b[0;32mif\u001b[0m \u001b[0mbinary\u001b[0m\u001b[0;34m:\u001b[0m\u001b[0;34m\u001b[0m\u001b[0;34m\u001b[0m\u001b[0m\n\u001b[1;32m   1035\u001b[0m                 \u001b[0;32mreturn\u001b[0m \u001b[0mresponse\u001b[0m\u001b[0;34m,\u001b[0m \u001b[0mself\u001b[0m\u001b[0;34m.\u001b[0m\u001b[0m_create_connection_guard\u001b[0m\u001b[0;34m(\u001b[0m\u001b[0mconnection\u001b[0m\u001b[0;34m)\u001b[0m\u001b[0;34m\u001b[0m\u001b[0;34m\u001b[0m\u001b[0m\n",
      "\u001b[0;32m~/anaconda3/lib/python3.7/site-packages/py4j/java_gateway.py\u001b[0m in \u001b[0;36msend_command\u001b[0;34m(self, command)\u001b[0m\n\u001b[1;32m   1198\u001b[0m \u001b[0;34m\u001b[0m\u001b[0m\n\u001b[1;32m   1199\u001b[0m         \u001b[0;32mtry\u001b[0m\u001b[0;34m:\u001b[0m\u001b[0;34m\u001b[0m\u001b[0;34m\u001b[0m\u001b[0m\n\u001b[0;32m-> 1200\u001b[0;31m             \u001b[0manswer\u001b[0m \u001b[0;34m=\u001b[0m \u001b[0msmart_decode\u001b[0m\u001b[0;34m(\u001b[0m\u001b[0mself\u001b[0m\u001b[0;34m.\u001b[0m\u001b[0mstream\u001b[0m\u001b[0;34m.\u001b[0m\u001b[0mreadline\u001b[0m\u001b[0;34m(\u001b[0m\u001b[0;34m)\u001b[0m\u001b[0;34m[\u001b[0m\u001b[0;34m:\u001b[0m\u001b[0;34m-\u001b[0m\u001b[0;36m1\u001b[0m\u001b[0;34m]\u001b[0m\u001b[0;34m)\u001b[0m\u001b[0;34m\u001b[0m\u001b[0;34m\u001b[0m\u001b[0m\n\u001b[0m\u001b[1;32m   1201\u001b[0m             \u001b[0mlogger\u001b[0m\u001b[0;34m.\u001b[0m\u001b[0mdebug\u001b[0m\u001b[0;34m(\u001b[0m\u001b[0;34m\"Answer received: {0}\"\u001b[0m\u001b[0;34m.\u001b[0m\u001b[0mformat\u001b[0m\u001b[0;34m(\u001b[0m\u001b[0manswer\u001b[0m\u001b[0;34m)\u001b[0m\u001b[0;34m)\u001b[0m\u001b[0;34m\u001b[0m\u001b[0;34m\u001b[0m\u001b[0m\n\u001b[1;32m   1202\u001b[0m             \u001b[0;32mif\u001b[0m \u001b[0manswer\u001b[0m\u001b[0;34m.\u001b[0m\u001b[0mstartswith\u001b[0m\u001b[0;34m(\u001b[0m\u001b[0mproto\u001b[0m\u001b[0;34m.\u001b[0m\u001b[0mRETURN_MESSAGE\u001b[0m\u001b[0;34m)\u001b[0m\u001b[0;34m:\u001b[0m\u001b[0;34m\u001b[0m\u001b[0;34m\u001b[0m\u001b[0m\n",
      "\u001b[0;32m~/anaconda3/lib/python3.7/socket.py\u001b[0m in \u001b[0;36mreadinto\u001b[0;34m(self, b)\u001b[0m\n\u001b[1;32m    587\u001b[0m         \u001b[0;32mwhile\u001b[0m \u001b[0;32mTrue\u001b[0m\u001b[0;34m:\u001b[0m\u001b[0;34m\u001b[0m\u001b[0;34m\u001b[0m\u001b[0m\n\u001b[1;32m    588\u001b[0m             \u001b[0;32mtry\u001b[0m\u001b[0;34m:\u001b[0m\u001b[0;34m\u001b[0m\u001b[0;34m\u001b[0m\u001b[0m\n\u001b[0;32m--> 589\u001b[0;31m                 \u001b[0;32mreturn\u001b[0m \u001b[0mself\u001b[0m\u001b[0;34m.\u001b[0m\u001b[0m_sock\u001b[0m\u001b[0;34m.\u001b[0m\u001b[0mrecv_into\u001b[0m\u001b[0;34m(\u001b[0m\u001b[0mb\u001b[0m\u001b[0;34m)\u001b[0m\u001b[0;34m\u001b[0m\u001b[0;34m\u001b[0m\u001b[0m\n\u001b[0m\u001b[1;32m    590\u001b[0m             \u001b[0;32mexcept\u001b[0m \u001b[0mtimeout\u001b[0m\u001b[0;34m:\u001b[0m\u001b[0;34m\u001b[0m\u001b[0;34m\u001b[0m\u001b[0m\n\u001b[1;32m    591\u001b[0m                 \u001b[0mself\u001b[0m\u001b[0;34m.\u001b[0m\u001b[0m_timeout_occurred\u001b[0m \u001b[0;34m=\u001b[0m \u001b[0;32mTrue\u001b[0m\u001b[0;34m\u001b[0m\u001b[0;34m\u001b[0m\u001b[0m\n",
      "\u001b[0;31mKeyboardInterrupt\u001b[0m: "
     ]
    }
   ],
   "source": [
    "df = spark.read.parquet(\"/home/bigdata/spotiplay/data\")\n",
    "df.createOrReplaceTempView(\"songs\")\n",
    "df = df.sort(\"timestamp\", ascending=False)\n",
    "df.show()"
   ]
  },
  {
   "cell_type": "code",
   "execution_count": null,
   "metadata": {},
   "outputs": [
    {
     "name": "stdout",
     "output_type": "stream",
     "text": [
      "+--------------------+--------------------+--------------------+--------------------+--------------------+-----------+-----------+--------+--------------+--------------------+--------------------+--------------------+--------+--------------------+----------+--------------------+------------+-----+--------------------+\n",
      "|                 _id|               album|             artists|      audio_features|   available_markets|disc_number|duration_ms|explicit|  external_ids|       external_urls|                href|                  id|is_local|                name|popularity|         preview_url|track_number| type|                 uri|\n",
      "+--------------------+--------------------+--------------------+--------------------+--------------------+-----------+-----------+--------+--------------+--------------------+--------------------+--------------------+--------+--------------------+----------+--------------------+------------+-----+--------------------+\n",
      "|[640c321fb08f031d...|[single, single, ...|[[[https://open.s...|[0.72, 0.415, 0, ...|[AR, AU, AT, BE, ...|          1|     156500|    true|[ZZOPM1901003]|[https://open.spo...|https://api.spoti...|50oEtTUNlce4TuZXQ...|   false|                 urs|        66|https://p.scdn.co...|           2|track|spotify:track:50o...|\n",
      "|[640c3220b08f031d...|[album, album, [[...|[[[https://open.s...|[0.873, 0.488, 7,...|[AR, AU, AT, BE, ...|          1|     219040|    true|[ZZOPM2236003]|[https://open.spo...|https://api.spoti...|1zxfRSZcaonV1VXcY...|   false|High School in Ja...|        68|https://p.scdn.co...|           2|track|spotify:track:1zx...|\n",
      "|[640c3221b08f031d...|[single, single, ...|[[[https://open.s...|[0.593, 0.901, 8,...|[AR, AU, AT, BE, ...|          1|     200966|   false|[QZNJW2143033]|[https://open.spo...|https://api.spoti...|6tXPUEElfHbLBJJah...|   false|   Sick Little Games|        56|https://p.scdn.co...|           1|track|spotify:track:6tX...|\n",
      "|[640c3221b08f031d...|[album, album, [[...|[[[https://open.s...|[0.635, 0.312, 7,...|[AR, AU, AT, BE, ...|          1|     240118|    true|[ZZOPM1901100]|[https://open.spo...|https://api.spoti...|6eDfe957aV4sqGnDh...|   false|          Drive Safe|        58|https://p.scdn.co...|           5|track|spotify:track:6eD...|\n",
      "|[640c3222b08f031d...|[single, single, ...|[[[https://open.s...|[0.606, 0.196, 1,...|[AR, AU, AT, BE, ...|          1|     208510|    true|[ZZOPM1901607]|[https://open.spo...|https://api.spoti...|5WkCcSa78lM1Ym4LX...|   false|La La Lost You - ...|        67|https://p.scdn.co...|           1|track|spotify:track:5Wk...|\n",
      "|[640c3223b08f031d...|[single, single, ...|[[[https://open.s...|[0.923, 0.508, 1,...|[AR, AU, AT, BE, ...|          1|     126666|    true|[USUYG1096615]|[https://open.spo...|https://api.spoti...|4bdJHQp90ymjEIkkY...|   false|           Dat $tick|        59|https://p.scdn.co...|           1|track|spotify:track:4bd...|\n",
      "|[640c3223b08f031d...|[single, single, ...|[[[https://open.s...|[0.49, 0.857, 3, ...|[AR, AU, AT, BE, ...|          1|     173693|   false|[US7VG2166033]|[https://open.spo...|https://api.spoti...|30Elt09LwfGUac6NV...|   false|Let This Love Lie...|        55|https://p.scdn.co...|           5|track|spotify:track:30E...|\n",
      "|[640c3224b08f031d...|[album, album, [[...|[[[https://open.s...|[0.836, 0.686, 1,...|[AR, AU, AT, BE, ...|          1|     222258|    true|[USUYG1181125]|[https://open.spo...|https://api.spoti...|3qbqWUDl9j09PeBaQ...|   false|Introvert (feat. ...|        57|https://p.scdn.co...|           4|track|spotify:track:3qb...|\n",
      "|[640c3225b08f031d...|[single, single, ...|[[[https://open.s...|[0.371, 0.937, 9,...|[AR, AU, AT, BE, ...|          1|     172013|   false|[QZHZ32010679]|[https://open.spo...|https://api.spoti...|69xq52Yl3XgWRPIAO...|   false|    In Loving Memory|        55|https://p.scdn.co...|           1|track|spotify:track:69x...|\n",
      "|[640c3225b08f031d...|[compilation, com...|[[[https://open.s...|[0.472, 0.283, 7,...|[AE, AL, AR, AT, ...|          1|     229500|   false|[IDUM72100487]|[https://open.spo...|https://api.spoti...|6xBaRnPbkmKhvdiyN...|   false|         Menjadi Dia|         0|https://p.scdn.co...|          19|track|spotify:track:6xB...|\n",
      "|[640c3226b08f031d...|[compilation, com...|[[[https://open.s...|[0.386, 0.416, 4,...|[AE, AL, AR, AT, ...|          1|     220250|   false|[IDUM72100488]|[https://open.spo...|https://api.spoti...|6fot9q3jSwexm2Kyl...|   false|        Merasa Indah|         0|https://p.scdn.co...|          12|track|spotify:track:6fo...|\n",
      "|[640c3226b08f031d...|[compilation, com...|[[[https://open.s...|[0.474, 0.411, 4,...|[AE, AL, AR, AT, ...|          1|     261000|   false|[IDUM72100493]|[https://open.spo...|https://api.spoti...|3aP3UBGN4d7wLAin3...|   false|         Janji Setia|         0|https://p.scdn.co...|          17|track|spotify:track:3aP...|\n",
      "|[640c3227b08f031d...|[single, single, ...|[[[https://open.s...|[0.571, 0.661, 6,...|[AR, AU, AT, BE, ...|          1|     193120|    true|[USWB12207024]|[https://open.spo...|https://api.spoti...|5XB4g7ZqHcn84DFJX...|   false|               VIVID|        53|https://p.scdn.co...|           1|track|spotify:track:5XB...|\n",
      "|[640c3228b08f031d...|[single, single, ...|[[[https://open.s...|[0.46, 0.113, 2, ...|[AR, AU, AT, BE, ...|          1|     155402|   false|[QZ22B1898064]|[https://open.spo...|https://api.spoti...|0flo3KqhjkcuoB1G6...|   false|  Fly Me to the Moon|        64|https://p.scdn.co...|           1|track|spotify:track:0fl...|\n",
      "|[640c3228b08f031d...|[single, single, ...|[[[https://open.s...|[0.531, 0.401, 7,...|[AR, AU, AT, BE, ...|          1|     187918|   false|[QZ99L2141701]|[https://open.spo...|https://api.spoti...|70Vjb8pcNJT2HVfDL...|   false| Like All My Friends|        57|https://p.scdn.co...|           1|track|spotify:track:70V...|\n",
      "|[640c3229b08f031d...|[single, single, ...|[[[https://open.s...|[0.395, 0.309, 1,...|[AR, AU, AT, BE, ...|          1|     336000|   false|[ZZOPM2234425]|[https://open.spo...|https://api.spoti...|3vZk7OAUjMtVDNC85...|   false|    Oceans & Engines|        64|https://p.scdn.co...|           1|track|spotify:track:3vZ...|\n",
      "|[640c322ab08f031d...|[single, single, ...|[[[https://open.s...|[0.721, 0.758, 9,...|[AR, AU, AT, BE, ...|          1|     110091|    true|[USWB12300184]|[https://open.spo...|https://api.spoti...|0M4PHkYu3loA8rtjr...|   false|  Sundance Freestyle|        55|https://p.scdn.co...|           1|track|spotify:track:0M4...|\n",
      "|[640c322ab08f031d...|[single, single, ...|[[[https://open.s...|[0.871, 0.485, 7,...|[AR, AU, AT, BE, ...|          1|     219036|    true|[ZZOPM2236003]|[https://open.spo...|https://api.spoti...|5rbuv6zso7QSaKt26...|   false|High School in Ja...|        68|https://p.scdn.co...|           1|track|spotify:track:5rb...|\n",
      "|[640c322bb08f031d...|[album, album, [[...|[[[https://open.s...|[0.771, 0.816, 2,...|[AR, AU, AT, BE, ...|          1|     177320|   false|[USUYG1195549]|[https://open.spo...|https://api.spoti...|1NCUe90ZCiWTnWn3u...|   false|             Vintage|        58|https://p.scdn.co...|           5|track|spotify:track:1NC...|\n",
      "|[640c322cb08f031d...|[album, album, [[...|[[[https://open.s...|[0.651, 0.627, 7,...|[AR, AU, AT, BE, ...|          1|     177720|    true|[ZZOPM2236005]|[https://open.spo...|https://api.spoti...|2zz4plJxtgMIsQg5S...|   false|        Keeping Tabs|        58|https://p.scdn.co...|           4|track|spotify:track:2zz...|\n",
      "+--------------------+--------------------+--------------------+--------------------+--------------------+-----------+-----------+--------+--------------+--------------------+--------------------+--------------------+--------+--------------------+----------+--------------------+------------+-----+--------------------+\n",
      "only showing top 20 rows\n",
      "\n"
     ]
    }
   ],
   "source": [
    "mongo_uri = \"mongodb://localhost:27017/spotiplay.tracks\"\n",
    "mongo_conf = {\"spark.mongodb.input.uri\": mongo_uri}\n",
    "df_tracks = spark.read.format(\"com.mongodb.spark.sql.DefaultSource\") \\\n",
    "             .options(**mongo_conf) \\\n",
    "             .load()\n",
    "             \n",
    "df_tracks.createOrReplaceTempView(\"tracks\")\n",
    "df_tracks.show()"
   ]
  },
  {
   "cell_type": "code",
   "execution_count": null,
   "metadata": {},
   "outputs": [
    {
     "name": "stdout",
     "output_type": "stream",
     "text": [
      "+--------------------+--------------------+------------+------+--------+-----------+------------+----------------+--------+-------+-------+\n",
      "|                name|             artists|danceability|energy|loudness|speechiness|acousticness|instrumentalness|liveness|valence|  tempo|\n",
      "+--------------------+--------------------+------------+------+--------+-----------+------------+----------------+--------+-------+-------+\n",
      "|                 urs|              [NIKI]|        0.72| 0.415|  -9.527|      0.354|       0.834|         1.01E-6|  0.0893|  0.235|  94.88|\n",
      "|High School in Ja...|              [NIKI]|       0.873| 0.488|  -8.285|     0.0413|       0.531|         1.32E-4|   0.153|  0.462|119.983|\n",
      "|   Sick Little Games| [First and Forever]|       0.593| 0.901|  -3.695|     0.0792|     0.00492|         1.58E-5|  0.0805|  0.532| 96.564|\n",
      "|          Drive Safe|        [Rich Brian]|       0.635| 0.312|  -8.134|     0.0265|       0.635|             0.0|   0.138|  0.414| 98.017|\n",
      "|La La Lost You - ...|    [NIKI, 88rising]|       0.606| 0.196| -11.652|     0.0553|       0.908|             0.0|   0.348|  0.391|100.873|\n",
      "|           Dat $tick|        [Rich Brian]|       0.923| 0.508|  -8.668|     0.0468|       0.104|         1.21E-5|   0.126|  0.168|108.039|\n",
      "|Let This Love Lie...| [First and Forever]|        0.49| 0.857|  -3.783|     0.0601|     6.15E-5|             0.0|   0.113|  0.249|107.527|\n",
      "|Introvert (feat. ...|  [Rich Brian, Joji]|       0.836| 0.686|  -4.673|     0.0413|        0.14|         0.00231|  0.0681|  0.632|110.029|\n",
      "|    In Loving Memory| [First and Forever]|       0.371| 0.937|  -3.542|     0.0512|     4.43E-5|             0.0|   0.538|  0.628| 84.771|\n",
      "|         Menjadi Dia|      [Tiara Andini]|       0.472| 0.283| -11.348|     0.0307|       0.611|         1.34E-6|   0.126|  0.287|144.147|\n",
      "|        Merasa Indah|      [Tiara Andini]|       0.386| 0.416| -10.543|     0.0306|       0.766|         1.07E-5|   0.119|  0.345|122.536|\n",
      "|         Janji Setia|      [Tiara Andini]|       0.474| 0.411|  -7.946|     0.0278|       0.706|         5.85E-5|   0.285|   0.29|127.992|\n",
      "|               VIVID|  [Rich Brian, $NOT]|       0.571| 0.661|   -9.03|      0.047|       0.321|         1.44E-5|   0.141|  0.385|160.063|\n",
      "|  Fly Me to the Moon|[The Macarons Pro...|        0.46| 0.113| -15.763|     0.0322|       0.915|          0.0011|  0.0959|   0.32|107.519|\n",
      "| Like All My Friends|     [Francis Karel]|       0.531| 0.401|  -8.384|     0.0302|       0.466|             0.0|  0.0923|  0.208|106.178|\n",
      "|    Oceans & Engines|              [NIKI]|       0.395| 0.309|  -8.919|      0.033|       0.637|         2.17E-5|  0.0931| 0.0673|142.012|\n",
      "|  Sundance Freestyle|        [Rich Brian]|       0.721| 0.758|  -4.464|      0.189|       0.301|             0.0|   0.132|  0.749|108.912|\n",
      "|High School in Ja...|              [NIKI]|       0.871| 0.485|  -8.294|     0.0411|       0.527|         7.37E-5|   0.169|  0.494|119.976|\n",
      "|             Vintage|              [NIKI]|       0.771| 0.816|  -7.104|     0.0581|      0.0114|         9.63E-4|   0.339|  0.438|104.958|\n",
      "|        Keeping Tabs|              [NIKI]|       0.651| 0.627|  -6.842|      0.164|      0.0892|             0.0|  0.0941|  0.441|169.955|\n",
      "+--------------------+--------------------+------------+------+--------+-----------+------------+----------------+--------+-------+-------+\n",
      "only showing top 20 rows\n",
      "\n"
     ]
    }
   ],
   "source": [
    "from pyspark.sql.functions import col\n",
    "\n",
    "df_features = df_tracks.select(col(\"name\"), \n",
    "                               col(\"artists\").getItem(\"name\").alias(\"artists\"),\n",
    "                               col(\"audio_features\").getItem(\"danceability\").alias(\"danceability\"), \n",
    "                               col(\"audio_features\").getItem(\"energy\").alias(\"energy\"), \n",
    "                               col(\"audio_features\").getItem(\"loudness\").alias(\"loudness\"), \n",
    "                               col(\"audio_features\").getItem(\"speechiness\").alias(\"speechiness\"), \n",
    "                               col(\"audio_features\").getItem(\"acousticness\").alias(\"acousticness\"), \n",
    "                               col(\"audio_features\").getItem(\"instrumentalness\").alias(\"instrumentalness\"), \n",
    "                               col(\"audio_features\").getItem(\"liveness\").alias(\"liveness\"), \n",
    "                               col(\"audio_features\").getItem(\"valence\").alias(\"valence\"), \n",
    "                               col(\"audio_features\").getItem(\"tempo\").alias(\"tempo\"), )\n",
    "\n",
    "df_features.show()"
   ]
  },
  {
   "cell_type": "code",
   "execution_count": null,
   "metadata": {},
   "outputs": [],
   "source": [
    "from pyspark.ml.feature import VectorAssembler\n",
    "\n",
    "assembler=VectorAssembler(inputCols=[\n",
    " 'danceability',\n",
    " 'energy',\n",
    " 'loudness',\n",
    " 'speechiness',\n",
    " 'acousticness',\n",
    " 'instrumentalness',\n",
    " 'liveness',\n",
    " 'valence',\n",
    " 'tempo'], outputCol='features')\n",
    "assembled_data=assembler.setHandleInvalid(\"skip\").transform(df_features)"
   ]
  },
  {
   "cell_type": "code",
   "execution_count": null,
   "metadata": {},
   "outputs": [],
   "source": [
    "from pyspark.ml.feature import StandardScaler\n",
    "scale=StandardScaler(inputCol='features',outputCol='standardized')\n",
    "data_scale=scale.fit(assembled_data)\n",
    "df_scaled=data_scale.transform(assembled_data)"
   ]
  },
  {
   "cell_type": "code",
   "execution_count": null,
   "metadata": {},
   "outputs": [],
   "source": [
    "from pyspark.ml import Pipeline\n",
    "from pyspark.ml.clustering import KMeans\n",
    "from pyspark.ml.evaluation import ClusteringEvaluator\n",
    "silhouette_score=[]\n",
    "evaluator = ClusteringEvaluator(predictionCol='prediction', featuresCol='standardized', \\\n",
    "                                metricName='silhouette', distanceMeasure='squaredEuclidean')\n",
    "\n",
    "\n",
    "KMeans_algo=KMeans(featuresCol='standardized', k=7)\n",
    "    \n",
    "KMeans_fit=KMeans_algo.fit(df_scaled)\n",
    "    \n",
    "output_df =KMeans_fit.transform(df_scaled)\n",
    "\n",
    "pipeline = Pipeline(stages=[assembler, scale, KMeans_algo])"
   ]
  },
  {
   "cell_type": "code",
   "execution_count": null,
   "metadata": {},
   "outputs": [
    {
     "name": "stdout",
     "output_type": "stream",
     "text": [
      "+--------------------+--------------------+------------+------+--------+-----------+------------+----------------+--------+-------+-------+--------------------+--------------------+----------+\n",
      "|                name|             artists|danceability|energy|loudness|speechiness|acousticness|instrumentalness|liveness|valence|  tempo|            features|        standardized|prediction|\n",
      "+--------------------+--------------------+------------+------+--------+-----------+------------+----------------+--------+-------+-------+--------------------+--------------------+----------+\n",
      "|                 urs|              [NIKI]|        0.72| 0.415|  -9.527|      0.354|       0.834|         1.01E-6|  0.0893|  0.235|  94.88|[0.72,0.415,-9.52...|[4.81454042756875...|         4|\n",
      "|High School in Ja...|              [NIKI]|       0.873| 0.488|  -8.285|     0.0413|       0.531|         1.32E-4|   0.153|  0.462|119.983|[0.873,0.488,-8.2...|[5.83763026842711...|         2|\n",
      "|   Sick Little Games| [First and Forever]|       0.593| 0.901|  -3.695|     0.0792|     0.00492|         1.58E-5|  0.0805|  0.532| 96.564|[0.593,0.901,-3.6...|[3.96530899103926...|         2|\n",
      "|          Drive Safe|        [Rich Brian]|       0.635| 0.312|  -8.134|     0.0265|       0.635|             0.0|   0.138|  0.414| 98.017|[0.635,0.312,-8.1...|[4.24615718264744...|         4|\n",
      "|La La Lost You - ...|    [NIKI, 88rising]|       0.606| 0.196| -11.652|     0.0553|       0.908|             0.0|   0.348|  0.391|100.873|[0.606,0.196,-11....|[4.05223819320370...|         4|\n",
      "|           Dat $tick|        [Rich Brian]|       0.923| 0.508|  -8.668|     0.0468|       0.104|         1.21E-5|   0.126|  0.168|108.039|[0.923,0.508,-8.6...|[6.17197335367495...|         0|\n",
      "|Let This Love Lie...| [First and Forever]|        0.49| 0.857|  -3.783|     0.0601|     6.15E-5|             0.0|   0.113|  0.249|107.527|[0.49,0.857,-3.78...|[3.27656223542873...|         1|\n",
      "|Introvert (feat. ...|  [Rich Brian, Joji]|       0.836| 0.686|  -4.673|     0.0413|        0.14|         0.00231|  0.0681|  0.632|110.029|[0.836,0.686,-4.6...|[5.59021638534372...|         2|\n",
      "|    In Loving Memory| [First and Forever]|       0.371| 0.937|  -3.542|     0.0512|     4.43E-5|             0.0|   0.538|  0.628| 84.771|[0.371,0.937,-3.5...|[2.48082569253890...|         5|\n",
      "|         Menjadi Dia|      [Tiara Andini]|       0.472| 0.283| -11.348|     0.0307|       0.611|         1.34E-6|   0.126|  0.287|144.147|[0.472,0.283,-11....|[3.15619872473951...|         4|\n",
      "|        Merasa Indah|      [Tiara Andini]|       0.386| 0.416| -10.543|     0.0306|       0.766|         1.07E-5|   0.119|  0.345|122.536|[0.386,0.416,-10....|[2.58112861811325...|         4|\n",
      "|         Janji Setia|      [Tiara Andini]|       0.474| 0.411|  -7.946|     0.0278|       0.706|         5.85E-5|   0.285|   0.29|127.992|[0.474,0.411,-7.9...|[3.16957244814943...|         4|\n",
      "|               VIVID|  [Rich Brian, $NOT]|       0.571| 0.661|   -9.03|      0.047|       0.321|         1.44E-5|   0.141|  0.385|160.063|[0.571,0.661,-9.0...|[3.81819803353022...|         0|\n",
      "|  Fly Me to the Moon|[The Macarons Pro...|        0.46| 0.113| -15.763|     0.0322|       0.915|          0.0011|  0.0959|   0.32|107.519|[0.46,0.113,-15.7...|[3.07595638428004...|         4|\n",
      "| Like All My Friends|     [Francis Karel]|       0.531| 0.401|  -8.384|     0.0302|       0.466|             0.0|  0.0923|  0.208|106.178|[0.531,0.401,-8.3...|[3.55072356533195...|         0|\n",
      "|    Oceans & Engines|              [NIKI]|       0.395| 0.309|  -8.919|      0.033|       0.637|         2.17E-5|  0.0931| 0.0673|142.012|[0.395,0.309,-8.9...|[2.64131037345786...|         4|\n",
      "|  Sundance Freestyle|        [Rich Brian]|       0.721| 0.758|  -4.464|      0.189|       0.301|             0.0|   0.132|  0.749|108.912|[0.721,0.758,-4.4...|[4.82122728927371...|         2|\n",
      "|High School in Ja...|              [NIKI]|       0.871| 0.485|  -8.294|     0.0411|       0.527|         7.37E-5|   0.169|  0.494|119.976|[0.871,0.485,-8.2...|[5.82425654501720...|         2|\n",
      "|             Vintage|              [NIKI]|       0.771| 0.816|  -7.104|     0.0581|      0.0114|         9.63E-4|   0.339|  0.438|104.958|[0.771,0.816,-7.1...|[5.15557037452154...|         2|\n",
      "|        Keeping Tabs|              [NIKI]|       0.651| 0.627|  -6.842|      0.164|      0.0892|             0.0|  0.0941|  0.441|169.955|[0.651,0.627,-6.8...|[4.35314696992675...|         1|\n",
      "+--------------------+--------------------+------------+------+--------+-----------+------------+----------------+--------+-------+-------+--------------------+--------------------+----------+\n",
      "only showing top 20 rows\n",
      "\n"
     ]
    }
   ],
   "source": [
    "output_df.show()"
   ]
  },
  {
   "cell_type": "code",
   "execution_count": null,
   "metadata": {},
   "outputs": [
    {
     "name": "stdout",
     "output_type": "stream",
     "text": [
      "+--------------------+--------------------+-------+--------------------+------------+------+--------+----+-----------+------------+----------------+--------+-------+-------+--------------------+\n",
      "|            track_id|                name|artists|         album_image|danceability|energy|loudness|mode|speechiness|acousticness|instrumentalness|liveness|valence|  tempo|           timestamp|\n",
      "+--------------------+--------------------+-------+--------------------+------------+------+--------+----+-----------+------------+----------------+--------+-------+-------+--------------------+\n",
      "|7c98gah3Qah9o76kg...|        Bahasa Kalbu|   null|https://i.scdn.co...|        0.22| 0.284|  -9.985| 1.0|     0.0297|       0.858|         1.79E-5|   0.291|  0.155| 83.837|2023-03-13 13:57:...|\n",
      "|5WqCYYanb5HoIqJei...|Kyokuto no hitsuj...|   null|https://i.scdn.co...|       0.633| 0.859|  -7.596| 1.0|      0.181|     1.14E-4|         0.00375|   0.102|  0.632|130.012|2023-03-13 13:57:...|\n",
      "|3zIm0KzxRoGWN6hse...|Lo-fi shojo wa ky...|   null|https://i.scdn.co...|       0.628| 0.436| -12.218| 1.0|     0.0335|        0.97|           0.828|   0.258|   0.29| 79.986|2023-03-13 13:57:...|\n",
      "|6i5sIqE4lglanzlXX...|        Usai Di Sini|   null|https://i.scdn.co...|       0.445| 0.201| -11.244| 1.0|     0.0391|       0.965|             0.0|  0.0957|  0.547|121.468|2023-03-13 13:57:...|\n",
      "|5i29InIyuEG5121x1...|  Terjebak Nostalgia|   null|https://i.scdn.co...|       0.251| 0.268|  -8.433| 1.0|     0.0358|       0.915|             0.0|   0.151|  0.325|  55.27|2023-03-13 13:57:...|\n",
      "|6iBuCdHWsIJ3qCDs5...|Apalah (Arti Menu...|   null|https://i.scdn.co...|       0.502| 0.313|  -10.65| 1.0|     0.0294|       0.869|             0.0|   0.269|  0.291| 111.97|2023-03-13 13:57:...|\n",
      "|0rgEL2cD2T5MDzSDJ...|          Jatuh Hati|   null|https://i.scdn.co...|       0.536| 0.355| -10.562| 1.0|     0.0289|       0.813|             0.0|    0.12|  0.234|132.131|2023-03-13 13:57:...|\n",
      "|4CvYHgcpBFbefsz6Q...|          Kali Kedua|   null|https://i.scdn.co...|       0.518| 0.517|  -6.206| 1.0|      0.035|        0.82|         1.54E-5|   0.116|  0.313|137.867|2023-03-13 13:57:...|\n",
      "|2ZVCXz3dNKAWbucXu...|           Melangkah|   null|https://i.scdn.co...|       0.639|  0.66|  -7.697| 1.0|     0.0519|       0.204|             0.0|   0.345|  0.625| 99.968|2023-03-13 13:57:...|\n",
      "|0UdaSZnSoXauJgyfo...|Jangan Cepat Berlalu|   null|https://i.scdn.co...|       0.519| 0.267| -11.443| 1.0|     0.0294|        0.91|         1.16E-4|   0.161|  0.285|134.042|2023-03-13 13:57:...|\n",
      "|5MQPJBK0VdL99aLqS...|            Berdamai|   null|https://i.scdn.co...|       0.476| 0.281|  -7.855| 1.0|     0.0288|       0.913|         4.09E-5|   0.158|  0.377|137.114|2023-03-13 13:57:...|\n",
      "|12DwMhWoEn61zfmZ0...|             Kembali|   null|https://i.scdn.co...|       0.268| 0.313| -11.614| 1.0|     0.0548|       0.456|         0.00557|   0.111|  0.133| 71.781|2023-03-13 13:57:...|\n",
      "|7mdMV0cnYgJNRZRFF...|       Love & Let Go|   null|https://i.scdn.co...|       0.489| 0.477|  -7.618| 1.0|     0.0327|        0.59|         3.22E-6|   0.136|  0.107|127.717|2023-03-13 13:57:...|\n",
      "|1wE4Iqv0tXXuZBA67...|     Mantan Terindah|   null|https://i.scdn.co...|       0.393| 0.313|   -8.01| 1.0|     0.0301|       0.897|         8.79E-6|   0.109|  0.391| 94.787|2023-03-13 13:57:...|\n",
      "|6WIgm0evaMly8GH6V...|                 LDR|   null|https://i.scdn.co...|       0.284| 0.345|  -9.551| 1.0|      0.032|       0.683|             0.0|   0.108|  0.285|115.127|2023-03-13 13:57:...|\n",
      "|2G2X5AMqBRE2PgS3q...|             2:23 AM|   null|https://i.scdn.co...|       0.587| 0.611|  -8.862| 1.0|     0.0739|       0.244|         2.88E-5|   0.238|  0.499|179.951|2023-03-13 13:57:...|\n",
      "|6TyNKENZ3rrnZklMz...|             3:03 PM|   null|https://i.scdn.co...|       0.778| 0.572| -10.016| 0.0|      0.148|       0.609|          0.0179|  0.0772|  0.797| 82.547|2023-03-13 13:57:...|\n",
      "|6AqPjCYNosmuQ6QBL...|   Nyawa dan Harapan|   null|https://i.scdn.co...|       0.487| 0.278|  -8.016| 1.0|     0.0308|       0.863|         1.26E-6|   0.114|  0.353|127.879|2023-03-13 13:57:...|\n",
      "|3jK5ndIlxMK3rN0gj...|     Anganku Anganmu|   null|https://i.scdn.co...|       0.482| 0.696|  -4.665| 0.0|     0.0358|       0.438|             0.0|  0.0893|  0.253| 155.95|2023-03-13 13:57:...|\n",
      "|0FERqRAVmXwPasxY5...|          Biarkanlah|   null|https://i.scdn.co...|       0.401| 0.334|  -8.951| 1.0|     0.0343|       0.795|         3.74E-6|    0.11|  0.181|119.682|2023-03-13 13:57:...|\n",
      "+--------------------+--------------------+-------+--------------------+------------+------+--------+----+-----------+------------+----------------+--------+-------+-------+--------------------+\n",
      "only showing top 20 rows\n",
      "\n"
     ]
    }
   ],
   "source": [
    "df.show()"
   ]
  },
  {
   "cell_type": "code",
   "execution_count": null,
   "metadata": {},
   "outputs": [
    {
     "name": "stdout",
     "output_type": "stream",
     "text": [
      "+--------------------+-------+------------+------+--------+-----------+------------+----------------+--------+-------+-------+\n",
      "|                name|artists|danceability|energy|loudness|speechiness|acousticness|instrumentalness|liveness|valence|  tempo|\n",
      "+--------------------+-------+------------+------+--------+-----------+------------+----------------+--------+-------+-------+\n",
      "|Lo-fi shojo wa ky...|   null|       0.628| 0.436| -12.218|     0.0335|        0.97|           0.828|   0.258|   0.29| 79.986|\n",
      "|Kyokuto no hitsuj...|   null|       0.633| 0.859|  -7.596|      0.181|     1.14E-4|         0.00375|   0.102|  0.632|130.012|\n",
      "|        Bahasa Kalbu|   null|        0.22| 0.284|  -9.985|     0.0297|       0.858|         1.79E-5|   0.291|  0.155| 83.837|\n",
      "|        Usai Di Sini|   null|       0.445| 0.201| -11.244|     0.0391|       0.965|             0.0|  0.0957|  0.547|121.468|\n",
      "|  Terjebak Nostalgia|   null|       0.251| 0.268|  -8.433|     0.0358|       0.915|             0.0|   0.151|  0.325|  55.27|\n",
      "|Apalah (Arti Menu...|   null|       0.502| 0.313|  -10.65|     0.0294|       0.869|             0.0|   0.269|  0.291| 111.97|\n",
      "|          Jatuh Hati|   null|       0.536| 0.355| -10.562|     0.0289|       0.813|             0.0|    0.12|  0.234|132.131|\n",
      "|           Melangkah|   null|       0.639|  0.66|  -7.697|     0.0519|       0.204|             0.0|   0.345|  0.625| 99.968|\n",
      "|          Kali Kedua|   null|       0.518| 0.517|  -6.206|      0.035|        0.82|         1.54E-5|   0.116|  0.313|137.867|\n",
      "|       Love & Let Go|   null|       0.489| 0.477|  -7.618|     0.0327|        0.59|         3.22E-6|   0.136|  0.107|127.717|\n",
      "|                 LDR|   null|       0.284| 0.345|  -9.551|      0.032|       0.683|             0.0|   0.108|  0.285|115.127|\n",
      "|             Kembali|   null|       0.268| 0.313| -11.614|     0.0548|       0.456|         0.00557|   0.111|  0.133| 71.781|\n",
      "|Jangan Cepat Berlalu|   null|       0.519| 0.267| -11.443|     0.0294|        0.91|         1.16E-4|   0.161|  0.285|134.042|\n",
      "|            Berdamai|   null|       0.476| 0.281|  -7.855|     0.0288|       0.913|         4.09E-5|   0.158|  0.377|137.114|\n",
      "|     Mantan Terindah|   null|       0.393| 0.313|   -8.01|     0.0301|       0.897|         8.79E-6|   0.109|  0.391| 94.787|\n",
      "|     Anganku Anganmu|   null|       0.482| 0.696|  -4.665|     0.0358|       0.438|             0.0|  0.0893|  0.253| 155.95|\n",
      "|             3:03 PM|   null|       0.778| 0.572| -10.016|      0.148|       0.609|          0.0179|  0.0772|  0.797| 82.547|\n",
      "|          Biarkanlah|   null|       0.401| 0.334|  -8.951|     0.0343|       0.795|         3.74E-6|    0.11|  0.181|119.682|\n",
      "|   Nyawa dan Harapan|   null|       0.487| 0.278|  -8.016|     0.0308|       0.863|         1.26E-6|   0.114|  0.353|127.879|\n",
      "|             2:23 AM|   null|       0.587| 0.611|  -8.862|     0.0739|       0.244|         2.88E-5|   0.238|  0.499|179.951|\n",
      "+--------------------+-------+------------+------+--------+-----------+------------+----------------+--------+-------+-------+\n",
      "only showing top 20 rows\n",
      "\n"
     ]
    }
   ],
   "source": [
    "#rename df.track_name to df.name\n",
    "df = df.withColumnRenamed(\"track_name\", \"name\")\n",
    "df = df.withColumnRenamed(\"artist_name\", \"artists\")\n",
    "\n",
    "cols = ['name', 'artists', 'danceability', 'energy', 'key', 'loudness', 'mode', 'speechiness', 'acousticness', 'instrumentalness', 'liveness', 'valence', 'tempo', 'duration_ms']\n",
    "\n",
    "cols_drop = ['track_id','album_image','timestamp','mode']\n",
    "\n",
    "df_new = df.drop(*cols_drop)\n",
    "\n",
    "df_new.show()"
   ]
  },
  {
   "cell_type": "code",
   "execution_count": null,
   "metadata": {},
   "outputs": [
    {
     "name": "stdout",
     "output_type": "stream",
     "text": [
      "+--------------------+-------+----------+\n",
      "|                name|artists|prediction|\n",
      "+--------------------+-------+----------+\n",
      "|        Bahasa Kalbu|   null|         0|\n",
      "|Kyokuto no hitsuj...|   null|         6|\n",
      "|Lo-fi shojo wa ky...|   null|         3|\n",
      "|  Terjebak Nostalgia|   null|         0|\n",
      "|           Melangkah|   null|         5|\n",
      "|Apalah (Arti Menu...|   null|         2|\n",
      "|          Jatuh Hati|   null|         2|\n",
      "|          Kali Kedua|   null|         2|\n",
      "|        Usai Di Sini|   null|         2|\n",
      "|            Berdamai|   null|         2|\n",
      "|             Kembali|   null|         0|\n",
      "|Jangan Cepat Berlalu|   null|         2|\n",
      "|     Mantan Terindah|   null|         2|\n",
      "|                 LDR|   null|         2|\n",
      "|       Love & Let Go|   null|         2|\n",
      "|             3:03 PM|   null|         1|\n",
      "|             2:23 AM|   null|         5|\n",
      "|   Nyawa dan Harapan|   null|         2|\n",
      "|          Biarkanlah|   null|         2|\n",
      "|     Anganku Anganmu|   null|         4|\n",
      "+--------------------+-------+----------+\n",
      "only showing top 20 rows\n",
      "\n"
     ]
    }
   ],
   "source": [
    "df_latest_song = pipeline.fit(df_new).transform(df_new)\n",
    "\n",
    "df_predict = df_latest_song.select(\"name\", \"artists\", \"prediction\")\n",
    "\n",
    "df_predict.show()"
   ]
  },
  {
   "cell_type": "code",
   "execution_count": null,
   "metadata": {},
   "outputs": [
    {
     "name": "stdout",
     "output_type": "stream",
     "text": [
      "+--------------------+-------------------+------------+------+--------+-----------+------------+----------------+--------+-------+-------+--------------------+--------------------+----------+\n",
      "|                name|            artists|danceability|energy|loudness|speechiness|acousticness|instrumentalness|liveness|valence|  tempo|            features|        standardized|prediction|\n",
      "+--------------------+-------------------+------------+------+--------+-----------+------------+----------------+--------+-------+-------+--------------------+--------------------+----------+\n",
      "|High School in Ja...|             [NIKI]|       0.873| 0.488|  -8.285|     0.0413|       0.531|         1.32E-4|   0.153|  0.462|119.983|[0.873,0.488,-8.2...|[5.83763026842711...|         2|\n",
      "|   Sick Little Games|[First and Forever]|       0.593| 0.901|  -3.695|     0.0792|     0.00492|         1.58E-5|  0.0805|  0.532| 96.564|[0.593,0.901,-3.6...|[3.96530899103926...|         2|\n",
      "|Introvert (feat. ...| [Rich Brian, Joji]|       0.836| 0.686|  -4.673|     0.0413|        0.14|         0.00231|  0.0681|  0.632|110.029|[0.836,0.686,-4.6...|[5.59021638534372...|         2|\n",
      "|  Sundance Freestyle|       [Rich Brian]|       0.721| 0.758|  -4.464|      0.189|       0.301|             0.0|   0.132|  0.749|108.912|[0.721,0.758,-4.4...|[4.82122728927371...|         2|\n",
      "|High School in Ja...|             [NIKI]|       0.871| 0.485|  -8.294|     0.0411|       0.527|         7.37E-5|   0.169|  0.494|119.976|[0.871,0.485,-8.2...|[5.82425654501720...|         2|\n",
      "+--------------------+-------------------+------------+------+--------+-----------+------------+----------------+--------+-------+-------+--------------------+--------------------+----------+\n",
      "\n"
     ]
    }
   ],
   "source": [
    "#show the songs in the same cluster\n",
    "output_df.filter(output_df.prediction == 2).limit(5).show()"
   ]
  },
  {
   "cell_type": "code",
   "execution_count": null,
   "metadata": {},
   "outputs": [],
   "source": [
    "from pyspark.sql.functions import to_json, struct\n",
    "\n",
    "# Convert data frame to JSON string\n",
    "df_predict_json = df_predict.select(to_json(struct(\"*\")).alias(\"value\"))\n",
    "\n",
    "\n",
    "# Write data frame to Kafka topic\n",
    "df_predict_json.write.format(\"kafka\") \\\n",
    "    .option(\"kafka.bootstrap.servers\", \"localhost:9092\") \\\n",
    "    .option(\"topic\", \"recommendations\") \\\n",
    "    .save()"
   ]
  },
  {
   "cell_type": "code",
   "execution_count": null,
   "metadata": {},
   "outputs": [
    {
     "name": "stdout",
     "output_type": "stream",
     "text": [
      "name                                                         Berdamai\n",
      "artists                                                          None\n",
      "danceability                                                    0.476\n",
      "energy                                                          0.281\n",
      "loudness                                                       -7.855\n",
      "speechiness                                                    0.0288\n",
      "acousticness                                                    0.913\n",
      "instrumentalness                                             4.09e-05\n",
      "liveness                                                        0.158\n",
      "valence                                                         0.377\n",
      "tempo                                                         137.114\n",
      "features            [0.476, 0.281, -7.855, 0.0288, 0.913, 4.09e-05...\n",
      "standardized        [3.3552678421555773, 1.6047389718535139, -4.12...\n",
      "prediction                                                          2\n",
      "Name: 9, dtype: object\n",
      "[('Dia Raja - Acoustic', 296557), ('Sejuta Rasa', 324399), ('Sepanjang Jalan Kenangan', 329965), ('Suasana Hari Raya - Reggaefitri', 349975), ('W.H.Y Jazz Fm', 357245)]\n"
     ]
    }
   ],
   "source": [
    "from pyspark.mllib.linalg import Vectors\n",
    "#import to_json\n",
    "from pyspark.sql.functions import to_json, struct\n",
    "def euclidean_distance(x, y):\n",
    "    distance = np.linalg.norm(np.array(x) - np.array(y))\n",
    "    distance_in_int = int(distance * 100000)\n",
    "    return distance_in_int\n",
    "\n",
    "def spotify_recommendations(row,num_recommendations=5):\n",
    "    # create a list to store the recommendations\n",
    "    recommendations = []\n",
    "    latest_song_name = row['name']\n",
    "    latest_song_cluster = row['prediction']\n",
    "    latest_song_features = row['standardized']\n",
    "\n",
    "    # filter the music_database RDD to only include songs in the same cluster as the latest_song\n",
    "    music_database_filtered = music_database.filter(lambda x: x[2] == latest_song_cluster)\n",
    "\n",
    "    # calculate the Euclidean distance between latest_song and each song in music_database_filtered\n",
    "    music_database_distances = music_database_filtered.map(lambda x: (x[0], euclidean_distance(x[1], latest_song_features)))\n",
    "\n",
    "    # sort music_database_distances by distance in ascending order\n",
    "    music_database_sorted = music_database_distances.sortBy(lambda x: x[1], ascending=True)\n",
    "    \n",
    "    #remove duplicate songs from the list\n",
    "    music_database_sorted = music_database_sorted.reduceByKey(lambda x, y: x)\n",
    "\n",
    "    # get the top 5 songs\n",
    "    recommendations_temp = music_database_sorted.take(num_recommendations)\n",
    "\n",
    "    # add the recommendations to the recommendations list\n",
    "    recommendations.extend([(recommendation[0], recommendation[1]) for recommendation in recommendations_temp])\n",
    "\n",
    "    return recommendations\n",
    "\n",
    "music_database = output_df.rdd.map(lambda x: (x['name'], x['standardized'], x['prediction']))\n",
    "# foreachBatch() will apply the function to each batch of data\n",
    "random_df = df_latest_song.toPandas()\n",
    "\n",
    "sample_df = random_df.sample(n=1)\n",
    "\n",
    "for index, row in sample_df.iterrows():\n",
    "    random_row = row\n",
    "    print(random_row)\n",
    "    recommendations = spotify_recommendations(random_row,5)\n",
    "    print(recommendations)\n",
    "    recommendations_df = spark.createDataFrame(recommendations, ['name', 'distance'])\n",
    "    \n",
    "    kafka_df = recommendations_df.select(to_json(struct(\"*\")).alias(\"value\"))\n",
    "    kafka_df.write.format(\"kafka\") \\\n",
    "        .option(\"kafka.bootstrap.servers\", \"localhost:9092\") \\\n",
    "        .option(\"topic\", \"recommendations\") \\\n",
    "        .save()"
   ]
  }
 ],
 "metadata": {
  "kernelspec": {
   "display_name": "Python 3",
   "language": "python",
   "name": "python3"
  },
  "language_info": {
   "codemirror_mode": {
    "name": "ipython",
    "version": 3
   },
   "file_extension": ".py",
   "mimetype": "text/x-python",
   "name": "python",
   "nbconvert_exporter": "python",
   "pygments_lexer": "ipython3",
   "version": "3.7.4 (default, Aug 13 2019, 20:35:49) \n[GCC 7.3.0]"
  },
  "vscode": {
   "interpreter": {
    "hash": "7e9b8e52f303c93a13f8d6d945738d91211aad0184906d5189f93e8d39255a5b"
   }
  }
 },
 "nbformat": 4,
 "nbformat_minor": 2
}
