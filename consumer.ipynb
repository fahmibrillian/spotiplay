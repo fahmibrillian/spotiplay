{
 "cells": [
  {
   "cell_type": "markdown",
   "metadata": {},
   "source": [
    "### Membuat Spark Context untuk aplikasi Spotiplay"
   ]
  },
  {
   "cell_type": "code",
   "execution_count": 1,
   "metadata": {},
   "outputs": [],
   "source": [
    "from pyspark.sql import SparkSession\n",
    "from pyspark.sql.functions import from_json, col\n",
    "from pyspark.sql.types import StructType, StructField, StringType, DoubleType\n",
    "\n",
    "spark = SparkSession.builder \\\n",
    "    .appName(\"SpotifyStreaming\") \\\n",
    "    .config(\"spark.jars.packages\", \"org.mongodb.spark:mongo-spark-connector_2.11:2.4.1,org.apache.spark:spark-sql-kafka-0-10_2.11:2.4.5\") \\\n",
    "    .getOrCreate()"
   ]
  },
  {
   "cell_type": "code",
   "execution_count": 2,
   "metadata": {},
   "outputs": [
    {
     "name": "stdout",
     "output_type": "stream",
     "text": [
      "file:///home/bigdata/.ivy2/jars/org.mongodb.spark_mongo-spark-connector_2.11-2.4.1.jar,file:///home/bigdata/.ivy2/jars/org.apache.spark_spark-sql-kafka-0-10_2.11-2.4.5.jar,file:///home/bigdata/.ivy2/jars/org.mongodb_mongo-java-driver-3.10.2.jar,file:///home/bigdata/.ivy2/jars/org.apache.kafka_kafka-clients-2.0.0.jar,file:///home/bigdata/.ivy2/jars/org.spark-project.spark_unused-1.0.0.jar,file:///home/bigdata/.ivy2/jars/org.lz4_lz4-java-1.4.0.jar,file:///home/bigdata/.ivy2/jars/org.xerial.snappy_snappy-java-1.1.7.3.jar,file:///home/bigdata/.ivy2/jars/org.slf4j_slf4j-api-1.7.16.jar\n"
     ]
    }
   ],
   "source": [
    "print(spark.sparkContext.getConf().get('spark.jars'))\n"
   ]
  },
  {
   "cell_type": "markdown",
   "metadata": {},
   "source": [
    "## Latest Played Streaming"
   ]
  },
  {
   "attachments": {},
   "cell_type": "markdown",
   "metadata": {},
   "source": [
    "### Get From parquet"
   ]
  },
  {
   "cell_type": "code",
   "execution_count": 3,
   "metadata": {},
   "outputs": [
    {
     "name": "stdout",
     "output_type": "stream",
     "text": [
      "+--------------------+--------------------+-----------+--------------------+------------+------+--------+----+-----------+------------+----------------+--------+-------+-------+--------------------+\n",
      "|            track_id|          track_name|artist_name|         album_image|danceability|energy|loudness|mode|speechiness|acousticness|instrumentalness|liveness|valence|  tempo|           timestamp|\n",
      "+--------------------+--------------------+-----------+--------------------+------------+------+--------+----+-----------+------------+----------------+--------+-------+-------+--------------------+\n",
      "|5wqGP4hnECDxaO6bs...|   bloom. [intro...]|       null|https://i.scdn.co...|       0.819|  0.32| -16.552| 0.0|     0.0998|       0.973|           0.804|   0.141|  0.781| 85.017|2023-03-12 06:52:...|\n",
      "|6TYuszb6kOBCQm2Ar...|          Cloud Nine|       null|https://i.scdn.co...|       0.645| 0.429| -10.104| 1.0|      0.038|       0.919|           0.958|   0.117|  0.623| 87.005|2023-03-12 06:52:...|\n",
      "|1wJyxkcsUItaam9Ba...|    Faithful Mission|       null|https://i.scdn.co...|       0.677| 0.443| -13.612| 0.0|      0.077|       0.682|           0.889|   0.228|  0.726| 73.963|2023-03-12 06:52:...|\n",
      "|6FYENg3JBGaVTKfUT...|           Afternoon|       null|https://i.scdn.co...|       0.797| 0.429|  -8.913| 0.0|       0.45|       0.759|         0.00478|   0.297|  0.345|165.072|2023-03-12 06:52:...|\n",
      "|0a7QhVUK3GpphbE0I...|            nice day|       null|https://i.scdn.co...|       0.717| 0.234| -12.915| 1.0|      0.129|       0.799|           0.772|   0.114|  0.464| 91.999|2023-03-12 06:52:...|\n",
      "|382b1ksiXzDrk23b8...|      Lazy Afternoon|       null|https://i.scdn.co...|       0.681| 0.232| -14.236| 1.0|     0.0694|       0.971|            0.84|  0.0939| 0.0918| 68.932|2023-03-12 06:52:...|\n",
      "|1uXWjpfJ3CynJ84t1...|          In My Head|       null|https://i.scdn.co...|       0.607| 0.487| -13.419| 1.0|     0.0296|       0.661|           0.884|   0.138|   0.22| 180.02|2023-03-12 06:52:...|\n",
      "|4lIF72WbFRnUQUsEa...|             Tanpopo|       null|https://i.scdn.co...|       0.827| 0.403| -18.307| 0.0|     0.0888|       0.911|           0.926|   0.341|  0.769|119.976|2023-03-12 06:52:...|\n",
      "|07H3Mpy3KcHKCe7re...|            Sidewalk|       null|https://i.scdn.co...|       0.771| 0.373| -11.316| 0.0|      0.171|       0.834|           0.912|   0.105|  0.454| 81.011|2023-03-12 06:52:...|\n",
      "|6TyNKENZ3rrnZklMz...|             3:03 PM|       null|https://i.scdn.co...|       0.778| 0.572| -10.016| 0.0|      0.148|       0.609|          0.0179|  0.0772|  0.797| 82.547|2023-03-12 06:52:...|\n",
      "|46M3XitzFYF04nAvG...|                lazy|       null|https://i.scdn.co...|       0.812| 0.268| -12.834| 1.0|     0.0652|       0.513|           0.923|  0.0627|  0.645|145.989|2023-03-12 06:52:...|\n",
      "|2G2X5AMqBRE2PgS3q...|             2:23 AM|       null|https://i.scdn.co...|       0.587| 0.611|  -8.862| 1.0|     0.0739|       0.244|         2.88E-5|   0.238|  0.499|179.951|2023-03-12 06:52:...|\n",
      "|5YtcQQJOSf0a785PT...|            I'm Fine|       null|https://i.scdn.co...|       0.947| 0.269|  -14.47| 1.0|     0.0682|       0.386|           0.868|   0.321|  0.369|121.664|2023-03-12 06:52:...|\n",
      "|4pphSPxO0PVF7VYuC...|Samishii obake to...|       null|https://i.scdn.co...|       0.842| 0.472|  -9.516| 1.0|     0.0512|       0.223|           0.532|  0.0492|  0.671| 99.978|2023-03-12 06:52:...|\n",
      "|0vvetk7TH9oKHUCnC...|          You and Me|       null|https://i.scdn.co...|       0.702|   0.4| -10.849| 1.0|      0.416|         0.5|          0.0258|   0.131|  0.881| 80.004|2023-03-12 06:52:...|\n",
      "|1m4mmA1KS5eV6RQlo...|Santa wa chuo-sen...|       null|https://i.scdn.co...|       0.695| 0.381|    -9.7| 0.0|     0.0295|      0.0337|         1.66E-4|   0.251|  0.714| 75.063|2023-03-12 06:52:...|\n",
      "|4aiRyhh4xoAlRuwMy...|Shumatsu Kyoto ge...|       null|https://i.scdn.co...|       0.714| 0.615|   -8.46| 1.0|     0.0305|       0.457|           0.617|   0.356|  0.682| 89.984|2023-03-12 06:52:...|\n",
      "|5MwotyIQgbctyVYxF...|Kamikakushi no sh...|       null|https://i.scdn.co...|       0.516| 0.674| -12.215| 0.0|     0.0372|       0.791|           0.896|  0.0827|  0.556|169.928|2023-03-12 06:52:...|\n",
      "|7bZB7muJ2bTZjgVdD...|              Parade|       null|https://i.scdn.co...|       0.533| 0.817|  -8.564| 1.0|     0.0271|      0.0708|           0.523|   0.357|  0.761| 105.01|2023-03-12 06:52:...|\n",
      "|17axPu0K4SdrX8D9X...|             Morning|       null|https://i.scdn.co...|       0.478| 0.799|  -9.396| 0.0|     0.0302|      0.0448|           0.871|   0.211|  0.924|117.979|2023-03-12 06:52:...|\n",
      "+--------------------+--------------------+-----------+--------------------+------------+------+--------+----+-----------+------------+----------------+--------+-------+-------+--------------------+\n",
      "only showing top 20 rows\n",
      "\n"
     ]
    }
   ],
   "source": [
    "df = spark.read.parquet(\"/home/bigdata/spotiplay/data\")\n",
    "df.createOrReplaceTempView(\"songs\")\n",
    "df = df.sort(\"timestamp\", ascending=False)\n",
    "df.show()"
   ]
  },
  {
   "cell_type": "code",
   "execution_count": 4,
   "metadata": {},
   "outputs": [
    {
     "name": "stdout",
     "output_type": "stream",
     "text": [
      "+--------------------+--------------------+--------------------+--------------------+--------------------+-----------+-----------+--------+--------------+--------------------+--------------------+--------------------+--------+--------------------+----------+--------------------+------------+-----+--------------------+\n",
      "|                 _id|               album|             artists|      audio_features|   available_markets|disc_number|duration_ms|explicit|  external_ids|       external_urls|                href|                  id|is_local|                name|popularity|         preview_url|track_number| type|                 uri|\n",
      "+--------------------+--------------------+--------------------+--------------------+--------------------+-----------+-----------+--------+--------------+--------------------+--------------------+--------------------+--------+--------------------+----------+--------------------+------------+-----+--------------------+\n",
      "|[640c321fb08f031d...|[single, single, ...|[[[https://open.s...|[0.72, 0.415, 0, ...|[AR, AU, AT, BE, ...|          1|     156500|    true|[ZZOPM1901003]|[https://open.spo...|https://api.spoti...|50oEtTUNlce4TuZXQ...|   false|                 urs|        66|https://p.scdn.co...|           2|track|spotify:track:50o...|\n",
      "|[640c3220b08f031d...|[album, album, [[...|[[[https://open.s...|[0.873, 0.488, 7,...|[AR, AU, AT, BE, ...|          1|     219040|    true|[ZZOPM2236003]|[https://open.spo...|https://api.spoti...|1zxfRSZcaonV1VXcY...|   false|High School in Ja...|        68|https://p.scdn.co...|           2|track|spotify:track:1zx...|\n",
      "|[640c3221b08f031d...|[single, single, ...|[[[https://open.s...|[0.593, 0.901, 8,...|[AR, AU, AT, BE, ...|          1|     200966|   false|[QZNJW2143033]|[https://open.spo...|https://api.spoti...|6tXPUEElfHbLBJJah...|   false|   Sick Little Games|        56|https://p.scdn.co...|           1|track|spotify:track:6tX...|\n",
      "|[640c3221b08f031d...|[album, album, [[...|[[[https://open.s...|[0.635, 0.312, 7,...|[AR, AU, AT, BE, ...|          1|     240118|    true|[ZZOPM1901100]|[https://open.spo...|https://api.spoti...|6eDfe957aV4sqGnDh...|   false|          Drive Safe|        58|https://p.scdn.co...|           5|track|spotify:track:6eD...|\n",
      "|[640c3222b08f031d...|[single, single, ...|[[[https://open.s...|[0.606, 0.196, 1,...|[AR, AU, AT, BE, ...|          1|     208510|    true|[ZZOPM1901607]|[https://open.spo...|https://api.spoti...|5WkCcSa78lM1Ym4LX...|   false|La La Lost You - ...|        67|https://p.scdn.co...|           1|track|spotify:track:5Wk...|\n",
      "|[640c3223b08f031d...|[single, single, ...|[[[https://open.s...|[0.923, 0.508, 1,...|[AR, AU, AT, BE, ...|          1|     126666|    true|[USUYG1096615]|[https://open.spo...|https://api.spoti...|4bdJHQp90ymjEIkkY...|   false|           Dat $tick|        59|https://p.scdn.co...|           1|track|spotify:track:4bd...|\n",
      "|[640c3223b08f031d...|[single, single, ...|[[[https://open.s...|[0.49, 0.857, 3, ...|[AR, AU, AT, BE, ...|          1|     173693|   false|[US7VG2166033]|[https://open.spo...|https://api.spoti...|30Elt09LwfGUac6NV...|   false|Let This Love Lie...|        55|https://p.scdn.co...|           5|track|spotify:track:30E...|\n",
      "|[640c3224b08f031d...|[album, album, [[...|[[[https://open.s...|[0.836, 0.686, 1,...|[AR, AU, AT, BE, ...|          1|     222258|    true|[USUYG1181125]|[https://open.spo...|https://api.spoti...|3qbqWUDl9j09PeBaQ...|   false|Introvert (feat. ...|        57|https://p.scdn.co...|           4|track|spotify:track:3qb...|\n",
      "|[640c3225b08f031d...|[single, single, ...|[[[https://open.s...|[0.371, 0.937, 9,...|[AR, AU, AT, BE, ...|          1|     172013|   false|[QZHZ32010679]|[https://open.spo...|https://api.spoti...|69xq52Yl3XgWRPIAO...|   false|    In Loving Memory|        55|https://p.scdn.co...|           1|track|spotify:track:69x...|\n",
      "|[640c3225b08f031d...|[compilation, com...|[[[https://open.s...|[0.472, 0.283, 7,...|[AE, AL, AR, AT, ...|          1|     229500|   false|[IDUM72100487]|[https://open.spo...|https://api.spoti...|6xBaRnPbkmKhvdiyN...|   false|         Menjadi Dia|         0|https://p.scdn.co...|          19|track|spotify:track:6xB...|\n",
      "|[640c3226b08f031d...|[compilation, com...|[[[https://open.s...|[0.386, 0.416, 4,...|[AE, AL, AR, AT, ...|          1|     220250|   false|[IDUM72100488]|[https://open.spo...|https://api.spoti...|6fot9q3jSwexm2Kyl...|   false|        Merasa Indah|         0|https://p.scdn.co...|          12|track|spotify:track:6fo...|\n",
      "|[640c3226b08f031d...|[compilation, com...|[[[https://open.s...|[0.474, 0.411, 4,...|[AE, AL, AR, AT, ...|          1|     261000|   false|[IDUM72100493]|[https://open.spo...|https://api.spoti...|3aP3UBGN4d7wLAin3...|   false|         Janji Setia|         0|https://p.scdn.co...|          17|track|spotify:track:3aP...|\n",
      "|[640c3227b08f031d...|[single, single, ...|[[[https://open.s...|[0.571, 0.661, 6,...|[AR, AU, AT, BE, ...|          1|     193120|    true|[USWB12207024]|[https://open.spo...|https://api.spoti...|5XB4g7ZqHcn84DFJX...|   false|               VIVID|        53|https://p.scdn.co...|           1|track|spotify:track:5XB...|\n",
      "|[640c3228b08f031d...|[single, single, ...|[[[https://open.s...|[0.46, 0.113, 2, ...|[AR, AU, AT, BE, ...|          1|     155402|   false|[QZ22B1898064]|[https://open.spo...|https://api.spoti...|0flo3KqhjkcuoB1G6...|   false|  Fly Me to the Moon|        64|https://p.scdn.co...|           1|track|spotify:track:0fl...|\n",
      "|[640c3228b08f031d...|[single, single, ...|[[[https://open.s...|[0.531, 0.401, 7,...|[AR, AU, AT, BE, ...|          1|     187918|   false|[QZ99L2141701]|[https://open.spo...|https://api.spoti...|70Vjb8pcNJT2HVfDL...|   false| Like All My Friends|        57|https://p.scdn.co...|           1|track|spotify:track:70V...|\n",
      "|[640c3229b08f031d...|[single, single, ...|[[[https://open.s...|[0.395, 0.309, 1,...|[AR, AU, AT, BE, ...|          1|     336000|   false|[ZZOPM2234425]|[https://open.spo...|https://api.spoti...|3vZk7OAUjMtVDNC85...|   false|    Oceans & Engines|        64|https://p.scdn.co...|           1|track|spotify:track:3vZ...|\n",
      "|[640c322ab08f031d...|[single, single, ...|[[[https://open.s...|[0.721, 0.758, 9,...|[AR, AU, AT, BE, ...|          1|     110091|    true|[USWB12300184]|[https://open.spo...|https://api.spoti...|0M4PHkYu3loA8rtjr...|   false|  Sundance Freestyle|        55|https://p.scdn.co...|           1|track|spotify:track:0M4...|\n",
      "|[640c322ab08f031d...|[single, single, ...|[[[https://open.s...|[0.871, 0.485, 7,...|[AR, AU, AT, BE, ...|          1|     219036|    true|[ZZOPM2236003]|[https://open.spo...|https://api.spoti...|5rbuv6zso7QSaKt26...|   false|High School in Ja...|        68|https://p.scdn.co...|           1|track|spotify:track:5rb...|\n",
      "|[640c322bb08f031d...|[album, album, [[...|[[[https://open.s...|[0.771, 0.816, 2,...|[AR, AU, AT, BE, ...|          1|     177320|   false|[USUYG1195549]|[https://open.spo...|https://api.spoti...|1NCUe90ZCiWTnWn3u...|   false|             Vintage|        58|https://p.scdn.co...|           5|track|spotify:track:1NC...|\n",
      "|[640c322cb08f031d...|[album, album, [[...|[[[https://open.s...|[0.651, 0.627, 7,...|[AR, AU, AT, BE, ...|          1|     177720|    true|[ZZOPM2236005]|[https://open.spo...|https://api.spoti...|2zz4plJxtgMIsQg5S...|   false|        Keeping Tabs|        58|https://p.scdn.co...|           4|track|spotify:track:2zz...|\n",
      "+--------------------+--------------------+--------------------+--------------------+--------------------+-----------+-----------+--------+--------------+--------------------+--------------------+--------------------+--------+--------------------+----------+--------------------+------------+-----+--------------------+\n",
      "only showing top 20 rows\n",
      "\n"
     ]
    }
   ],
   "source": [
    "mongo_uri = \"mongodb://localhost:27017/spotiplay.tracks\"\n",
    "mongo_conf = {\"spark.mongodb.input.uri\": mongo_uri}\n",
    "df_tracks = spark.read.format(\"com.mongodb.spark.sql.DefaultSource\") \\\n",
    "             .options(**mongo_conf) \\\n",
    "             .load()\n",
    "             \n",
    "df_tracks.createOrReplaceTempView(\"tracks\")\n",
    "df_tracks.show()"
   ]
  },
  {
   "cell_type": "code",
   "execution_count": 27,
   "metadata": {},
   "outputs": [
    {
     "name": "stdout",
     "output_type": "stream",
     "text": [
      "+--------------------+--------------------+------------+------+--------+-----------+------------+----------------+--------+-------+-------+\n",
      "|                name|              artist|danceability|energy|loudness|speechiness|acousticness|instrumentalness|liveness|valence|  tempo|\n",
      "+--------------------+--------------------+------------+------+--------+-----------+------------+----------------+--------+-------+-------+\n",
      "|                 urs|              [NIKI]|        0.72| 0.415|  -9.527|      0.354|       0.834|         1.01E-6|  0.0893|  0.235|  94.88|\n",
      "|High School in Ja...|              [NIKI]|       0.873| 0.488|  -8.285|     0.0413|       0.531|         1.32E-4|   0.153|  0.462|119.983|\n",
      "|   Sick Little Games| [First and Forever]|       0.593| 0.901|  -3.695|     0.0792|     0.00492|         1.58E-5|  0.0805|  0.532| 96.564|\n",
      "|          Drive Safe|        [Rich Brian]|       0.635| 0.312|  -8.134|     0.0265|       0.635|             0.0|   0.138|  0.414| 98.017|\n",
      "|La La Lost You - ...|    [NIKI, 88rising]|       0.606| 0.196| -11.652|     0.0553|       0.908|             0.0|   0.348|  0.391|100.873|\n",
      "|           Dat $tick|        [Rich Brian]|       0.923| 0.508|  -8.668|     0.0468|       0.104|         1.21E-5|   0.126|  0.168|108.039|\n",
      "|Let This Love Lie...| [First and Forever]|        0.49| 0.857|  -3.783|     0.0601|     6.15E-5|             0.0|   0.113|  0.249|107.527|\n",
      "|Introvert (feat. ...|  [Rich Brian, Joji]|       0.836| 0.686|  -4.673|     0.0413|        0.14|         0.00231|  0.0681|  0.632|110.029|\n",
      "|    In Loving Memory| [First and Forever]|       0.371| 0.937|  -3.542|     0.0512|     4.43E-5|             0.0|   0.538|  0.628| 84.771|\n",
      "|         Menjadi Dia|      [Tiara Andini]|       0.472| 0.283| -11.348|     0.0307|       0.611|         1.34E-6|   0.126|  0.287|144.147|\n",
      "|        Merasa Indah|      [Tiara Andini]|       0.386| 0.416| -10.543|     0.0306|       0.766|         1.07E-5|   0.119|  0.345|122.536|\n",
      "|         Janji Setia|      [Tiara Andini]|       0.474| 0.411|  -7.946|     0.0278|       0.706|         5.85E-5|   0.285|   0.29|127.992|\n",
      "|               VIVID|  [Rich Brian, $NOT]|       0.571| 0.661|   -9.03|      0.047|       0.321|         1.44E-5|   0.141|  0.385|160.063|\n",
      "|  Fly Me to the Moon|[The Macarons Pro...|        0.46| 0.113| -15.763|     0.0322|       0.915|          0.0011|  0.0959|   0.32|107.519|\n",
      "| Like All My Friends|     [Francis Karel]|       0.531| 0.401|  -8.384|     0.0302|       0.466|             0.0|  0.0923|  0.208|106.178|\n",
      "|    Oceans & Engines|              [NIKI]|       0.395| 0.309|  -8.919|      0.033|       0.637|         2.17E-5|  0.0931| 0.0673|142.012|\n",
      "|  Sundance Freestyle|        [Rich Brian]|       0.721| 0.758|  -4.464|      0.189|       0.301|             0.0|   0.132|  0.749|108.912|\n",
      "|High School in Ja...|              [NIKI]|       0.871| 0.485|  -8.294|     0.0411|       0.527|         7.37E-5|   0.169|  0.494|119.976|\n",
      "|             Vintage|              [NIKI]|       0.771| 0.816|  -7.104|     0.0581|      0.0114|         9.63E-4|   0.339|  0.438|104.958|\n",
      "|        Keeping Tabs|              [NIKI]|       0.651| 0.627|  -6.842|      0.164|      0.0892|             0.0|  0.0941|  0.441|169.955|\n",
      "+--------------------+--------------------+------------+------+--------+-----------+------------+----------------+--------+-------+-------+\n",
      "only showing top 20 rows\n",
      "\n"
     ]
    }
   ],
   "source": [
    "from pyspark.sql.functions import col\n",
    "\n",
    "df_features = df_tracks.select(col(\"name\"), \n",
    "                               col(\"artists\").getItem(\"name\").alias(\"artist\"),\n",
    "                               col(\"audio_features\").getItem(\"danceability\").alias(\"danceability\"), \n",
    "                               col(\"audio_features\").getItem(\"energy\").alias(\"energy\"), \n",
    "                               col(\"audio_features\").getItem(\"loudness\").alias(\"loudness\"), \n",
    "                               col(\"audio_features\").getItem(\"speechiness\").alias(\"speechiness\"), \n",
    "                               col(\"audio_features\").getItem(\"acousticness\").alias(\"acousticness\"), \n",
    "                               col(\"audio_features\").getItem(\"instrumentalness\").alias(\"instrumentalness\"), \n",
    "                               col(\"audio_features\").getItem(\"liveness\").alias(\"liveness\"), \n",
    "                               col(\"audio_features\").getItem(\"valence\").alias(\"valence\"), \n",
    "                               col(\"audio_features\").getItem(\"tempo\").alias(\"tempo\"), )\n",
    "\n",
    "df_features.show()"
   ]
  },
  {
   "cell_type": "code",
   "execution_count": 40,
   "metadata": {},
   "outputs": [],
   "source": [
    "from pyspark.ml.feature import VectorAssembler\n",
    "\n",
    "assembler=VectorAssembler(inputCols=[\n",
    " 'danceability',\n",
    " 'energy',\n",
    " 'loudness',\n",
    " 'speechiness',\n",
    " 'acousticness',\n",
    " 'instrumentalness',\n",
    " 'liveness',\n",
    " 'valence',\n",
    " 'tempo'], outputCol='features')\n",
    "assembled_data=assembler.setHandleInvalid(\"skip\").transform(df_features)"
   ]
  },
  {
   "cell_type": "code",
   "execution_count": 41,
   "metadata": {},
   "outputs": [],
   "source": [
    "from pyspark.ml.feature import StandardScaler\n",
    "scale=StandardScaler(inputCol='features',outputCol='standardized')\n",
    "data_scale=scale.fit(assembled_data)\n",
    "df_scaled=data_scale.transform(assembled_data)"
   ]
  },
  {
   "cell_type": "code",
   "execution_count": 42,
   "metadata": {},
   "outputs": [],
   "source": [
    "from pyspark.ml import Pipeline\n",
    "from pyspark.ml.clustering import KMeans\n",
    "from pyspark.ml.evaluation import ClusteringEvaluator\n",
    "silhouette_score=[]\n",
    "evaluator = ClusteringEvaluator(predictionCol='prediction', featuresCol='standardized', \\\n",
    "                                metricName='silhouette', distanceMeasure='squaredEuclidean')\n",
    "\n",
    "\n",
    "KMeans_algo=KMeans(featuresCol='standardized', k=3)\n",
    "    \n",
    "KMeans_fit=KMeans_algo.fit(df_scaled)\n",
    "    \n",
    "output_df =KMeans_fit.transform(df_scaled)\n",
    "\n",
    "pipeline = Pipeline(stages=[assembler, scale, KMeans_algo])"
   ]
  },
  {
   "cell_type": "code",
   "execution_count": 43,
   "metadata": {},
   "outputs": [
    {
     "name": "stdout",
     "output_type": "stream",
     "text": [
      "+--------------------+--------------------+------------+------+--------+-----------+------------+----------------+--------+-------+-------+--------------------+--------------------+----------+\n",
      "|                name|              artist|danceability|energy|loudness|speechiness|acousticness|instrumentalness|liveness|valence|  tempo|            features|        standardized|prediction|\n",
      "+--------------------+--------------------+------------+------+--------+-----------+------------+----------------+--------+-------+-------+--------------------+--------------------+----------+\n",
      "|                 urs|              [NIKI]|        0.72| 0.415|  -9.527|      0.354|       0.834|         1.01E-6|  0.0893|  0.235|  94.88|[0.72,0.415,-9.52...|[4.81108869035855...|         0|\n",
      "|High School in Ja...|              [NIKI]|       0.873| 0.488|  -8.285|     0.0413|       0.531|         1.32E-4|   0.153|  0.462|119.983|[0.873,0.488,-8.2...|[5.83344503705974...|         0|\n",
      "|   Sick Little Games| [First and Forever]|       0.593| 0.901|  -3.695|     0.0792|     0.00492|         1.58E-5|  0.0805|  0.532| 96.564|[0.593,0.901,-3.6...|[3.96246610192030...|         0|\n",
      "|          Drive Safe|        [Rich Brian]|       0.635| 0.312|  -8.134|     0.0265|       0.635|             0.0|   0.138|  0.414| 98.017|[0.635,0.312,-8.1...|[4.24311294219122...|         1|\n",
      "|La La Lost You - ...|    [NIKI, 88rising]|       0.606| 0.196| -11.652|     0.0553|       0.908|             0.0|   0.348|  0.391|100.873|[0.606,0.196,-11....|[4.04933298105178...|         1|\n",
      "|           Dat $tick|        [Rich Brian]|       0.923| 0.508|  -8.668|     0.0468|       0.104|         1.21E-5|   0.126|  0.168|108.039|[0.923,0.508,-8.6...|[6.16754841833464...|         0|\n",
      "|Let This Love Lie...| [First and Forever]|        0.49| 0.857|  -3.783|     0.0601|     6.15E-5|             0.0|   0.113|  0.249|107.527|[0.49,0.857,-3.78...|[3.27421313649401...|         2|\n",
      "|Introvert (feat. ...|  [Rich Brian, Joji]|       0.836| 0.686|  -4.673|     0.0413|        0.14|         0.00231|  0.0681|  0.632|110.029|[0.836,0.686,-4.6...|[5.58620853491632...|         0|\n",
      "|    In Loving Memory| [First and Forever]|       0.371| 0.937|  -3.542|     0.0512|     4.43E-5|             0.0|   0.538|  0.628| 84.771|[0.371,0.937,-3.5...|[2.47904708905975...|         2|\n",
      "|         Menjadi Dia|      [Tiara Andini]|       0.472| 0.283| -11.348|     0.0307|       0.611|         1.34E-6|   0.126|  0.287|144.147|[0.472,0.283,-11....|[3.15393591923505...|         1|\n",
      "|        Merasa Indah|      [Tiara Andini]|       0.386| 0.416| -10.543|     0.0306|       0.766|         1.07E-5|   0.119|  0.345|122.536|[0.386,0.416,-10....|[2.57927810344222...|         1|\n",
      "|         Janji Setia|      [Tiara Andini]|       0.474| 0.411|  -7.946|     0.0278|       0.706|         5.85E-5|   0.285|   0.29|127.992|[0.474,0.411,-7.9...|[3.16730005448604...|         1|\n",
      "|               VIVID|  [Rich Brian, $NOT]|       0.571| 0.661|   -9.03|      0.047|       0.321|         1.44E-5|   0.141|  0.385|160.063|[0.571,0.661,-9.0...|[3.81546061415935...|         2|\n",
      "|  Fly Me to the Moon|[The Macarons Pro...|        0.46| 0.113| -15.763|     0.0322|       0.915|          0.0011|  0.0959|   0.32|107.519|[0.46,0.113,-15.7...|[3.07375110772907...|         1|\n",
      "| Like All My Friends|     [Francis Karel]|       0.531| 0.401|  -8.384|     0.0302|       0.466|             0.0|  0.0923|  0.208|106.178|[0.531,0.401,-8.3...|[3.54817790913943...|         1|\n",
      "|    Oceans & Engines|              [NIKI]|       0.395| 0.309|  -8.919|      0.033|       0.637|         2.17E-5|  0.0931| 0.0673|142.012|[0.395,0.309,-8.9...|[2.63941671207170...|         1|\n",
      "|  Sundance Freestyle|        [Rich Brian]|       0.721| 0.758|  -4.464|      0.189|       0.301|             0.0|   0.132|  0.749|108.912|[0.721,0.758,-4.4...|[4.81777075798405...|         0|\n",
      "|High School in Ja...|              [NIKI]|       0.871| 0.485|  -8.294|     0.0411|       0.527|         7.37E-5|   0.169|  0.494|119.976|[0.871,0.485,-8.2...|[5.82008090180875...|         0|\n",
      "|             Vintage|              [NIKI]|       0.771| 0.816|  -7.104|     0.0581|      0.0114|         9.63E-4|   0.339|  0.438|104.958|[0.771,0.816,-7.1...|[5.15187413925895...|         2|\n",
      "|        Keeping Tabs|              [NIKI]|       0.651| 0.627|  -6.842|      0.164|      0.0892|             0.0|  0.0941|  0.441|169.955|[0.651,0.627,-6.8...|[4.35002602419919...|         0|\n",
      "+--------------------+--------------------+------------+------+--------+-----------+------------+----------------+--------+-------+-------+--------------------+--------------------+----------+\n",
      "only showing top 20 rows\n",
      "\n"
     ]
    }
   ],
   "source": [
    "output_df.show()"
   ]
  },
  {
   "cell_type": "code",
   "execution_count": 18,
   "metadata": {},
   "outputs": [
    {
     "name": "stdout",
     "output_type": "stream",
     "text": [
      "+--------------------+--------------------+-----------+--------------------+------------+------+--------+----+-----------+------------+----------------+--------+-------+-------+--------------------+\n",
      "|            track_id|          track_name|artist_name|         album_image|danceability|energy|loudness|mode|speechiness|acousticness|instrumentalness|liveness|valence|  tempo|           timestamp|\n",
      "+--------------------+--------------------+-----------+--------------------+------------+------+--------+----+-----------+------------+----------------+--------+-------+-------+--------------------+\n",
      "|5wqGP4hnECDxaO6bs...|   bloom. [intro...]|       null|https://i.scdn.co...|       0.819|  0.32| -16.552| 0.0|     0.0998|       0.973|           0.804|   0.141|  0.781| 85.017|2023-03-12 06:52:...|\n",
      "|6TYuszb6kOBCQm2Ar...|          Cloud Nine|       null|https://i.scdn.co...|       0.645| 0.429| -10.104| 1.0|      0.038|       0.919|           0.958|   0.117|  0.623| 87.005|2023-03-12 06:52:...|\n",
      "|1wJyxkcsUItaam9Ba...|    Faithful Mission|       null|https://i.scdn.co...|       0.677| 0.443| -13.612| 0.0|      0.077|       0.682|           0.889|   0.228|  0.726| 73.963|2023-03-12 06:52:...|\n",
      "|6FYENg3JBGaVTKfUT...|           Afternoon|       null|https://i.scdn.co...|       0.797| 0.429|  -8.913| 0.0|       0.45|       0.759|         0.00478|   0.297|  0.345|165.072|2023-03-12 06:52:...|\n",
      "|0a7QhVUK3GpphbE0I...|            nice day|       null|https://i.scdn.co...|       0.717| 0.234| -12.915| 1.0|      0.129|       0.799|           0.772|   0.114|  0.464| 91.999|2023-03-12 06:52:...|\n",
      "|382b1ksiXzDrk23b8...|      Lazy Afternoon|       null|https://i.scdn.co...|       0.681| 0.232| -14.236| 1.0|     0.0694|       0.971|            0.84|  0.0939| 0.0918| 68.932|2023-03-12 06:52:...|\n",
      "|1uXWjpfJ3CynJ84t1...|          In My Head|       null|https://i.scdn.co...|       0.607| 0.487| -13.419| 1.0|     0.0296|       0.661|           0.884|   0.138|   0.22| 180.02|2023-03-12 06:52:...|\n",
      "|4lIF72WbFRnUQUsEa...|             Tanpopo|       null|https://i.scdn.co...|       0.827| 0.403| -18.307| 0.0|     0.0888|       0.911|           0.926|   0.341|  0.769|119.976|2023-03-12 06:52:...|\n",
      "|07H3Mpy3KcHKCe7re...|            Sidewalk|       null|https://i.scdn.co...|       0.771| 0.373| -11.316| 0.0|      0.171|       0.834|           0.912|   0.105|  0.454| 81.011|2023-03-12 06:52:...|\n",
      "|6TyNKENZ3rrnZklMz...|             3:03 PM|       null|https://i.scdn.co...|       0.778| 0.572| -10.016| 0.0|      0.148|       0.609|          0.0179|  0.0772|  0.797| 82.547|2023-03-12 06:52:...|\n",
      "|46M3XitzFYF04nAvG...|                lazy|       null|https://i.scdn.co...|       0.812| 0.268| -12.834| 1.0|     0.0652|       0.513|           0.923|  0.0627|  0.645|145.989|2023-03-12 06:52:...|\n",
      "|2G2X5AMqBRE2PgS3q...|             2:23 AM|       null|https://i.scdn.co...|       0.587| 0.611|  -8.862| 1.0|     0.0739|       0.244|         2.88E-5|   0.238|  0.499|179.951|2023-03-12 06:52:...|\n",
      "|5YtcQQJOSf0a785PT...|            I'm Fine|       null|https://i.scdn.co...|       0.947| 0.269|  -14.47| 1.0|     0.0682|       0.386|           0.868|   0.321|  0.369|121.664|2023-03-12 06:52:...|\n",
      "|4pphSPxO0PVF7VYuC...|Samishii obake to...|       null|https://i.scdn.co...|       0.842| 0.472|  -9.516| 1.0|     0.0512|       0.223|           0.532|  0.0492|  0.671| 99.978|2023-03-12 06:52:...|\n",
      "|0vvetk7TH9oKHUCnC...|          You and Me|       null|https://i.scdn.co...|       0.702|   0.4| -10.849| 1.0|      0.416|         0.5|          0.0258|   0.131|  0.881| 80.004|2023-03-12 06:52:...|\n",
      "|1m4mmA1KS5eV6RQlo...|Santa wa chuo-sen...|       null|https://i.scdn.co...|       0.695| 0.381|    -9.7| 0.0|     0.0295|      0.0337|         1.66E-4|   0.251|  0.714| 75.063|2023-03-12 06:52:...|\n",
      "|4aiRyhh4xoAlRuwMy...|Shumatsu Kyoto ge...|       null|https://i.scdn.co...|       0.714| 0.615|   -8.46| 1.0|     0.0305|       0.457|           0.617|   0.356|  0.682| 89.984|2023-03-12 06:52:...|\n",
      "|5MwotyIQgbctyVYxF...|Kamikakushi no sh...|       null|https://i.scdn.co...|       0.516| 0.674| -12.215| 0.0|     0.0372|       0.791|           0.896|  0.0827|  0.556|169.928|2023-03-12 06:52:...|\n",
      "|7bZB7muJ2bTZjgVdD...|              Parade|       null|https://i.scdn.co...|       0.533| 0.817|  -8.564| 1.0|     0.0271|      0.0708|           0.523|   0.357|  0.761| 105.01|2023-03-12 06:52:...|\n",
      "|17axPu0K4SdrX8D9X...|             Morning|       null|https://i.scdn.co...|       0.478| 0.799|  -9.396| 0.0|     0.0302|      0.0448|           0.871|   0.211|  0.924|117.979|2023-03-12 06:52:...|\n",
      "+--------------------+--------------------+-----------+--------------------+------------+------+--------+----+-----------+------------+----------------+--------+-------+-------+--------------------+\n",
      "only showing top 20 rows\n",
      "\n"
     ]
    }
   ],
   "source": [
    "df.show()"
   ]
  },
  {
   "cell_type": "code",
   "execution_count": 30,
   "metadata": {},
   "outputs": [
    {
     "name": "stdout",
     "output_type": "stream",
     "text": [
      "+--------------------+------+------------+------+--------+-----------+------------+----------------+--------+-------+-------+\n",
      "|                name|artist|danceability|energy|loudness|speechiness|acousticness|instrumentalness|liveness|valence|  tempo|\n",
      "+--------------------+------+------------+------+--------+-----------+------------+----------------+--------+-------+-------+\n",
      "|   bloom. [intro...]|  null|       0.819|  0.32| -16.552|     0.0998|       0.973|           0.804|   0.141|  0.781| 85.017|\n",
      "|          Cloud Nine|  null|       0.645| 0.429| -10.104|      0.038|       0.919|           0.958|   0.117|  0.623| 87.005|\n",
      "|    Faithful Mission|  null|       0.677| 0.443| -13.612|      0.077|       0.682|           0.889|   0.228|  0.726| 73.963|\n",
      "|           Afternoon|  null|       0.797| 0.429|  -8.913|       0.45|       0.759|         0.00478|   0.297|  0.345|165.072|\n",
      "|      Lazy Afternoon|  null|       0.681| 0.232| -14.236|     0.0694|       0.971|            0.84|  0.0939| 0.0918| 68.932|\n",
      "|          In My Head|  null|       0.607| 0.487| -13.419|     0.0296|       0.661|           0.884|   0.138|   0.22| 180.02|\n",
      "|            Sidewalk|  null|       0.771| 0.373| -11.316|      0.171|       0.834|           0.912|   0.105|  0.454| 81.011|\n",
      "|            nice day|  null|       0.717| 0.234| -12.915|      0.129|       0.799|           0.772|   0.114|  0.464| 91.999|\n",
      "|             Tanpopo|  null|       0.827| 0.403| -18.307|     0.0888|       0.911|           0.926|   0.341|  0.769|119.976|\n",
      "|             3:03 PM|  null|       0.778| 0.572| -10.016|      0.148|       0.609|          0.0179|  0.0772|  0.797| 82.547|\n",
      "|                lazy|  null|       0.812| 0.268| -12.834|     0.0652|       0.513|           0.923|  0.0627|  0.645|145.989|\n",
      "|            I'm Fine|  null|       0.947| 0.269|  -14.47|     0.0682|       0.386|           0.868|   0.321|  0.369|121.664|\n",
      "|             2:23 AM|  null|       0.587| 0.611|  -8.862|     0.0739|       0.244|         2.88E-5|   0.238|  0.499|179.951|\n",
      "|          You and Me|  null|       0.702|   0.4| -10.849|      0.416|         0.5|          0.0258|   0.131|  0.881| 80.004|\n",
      "|Samishii obake to...|  null|       0.842| 0.472|  -9.516|     0.0512|       0.223|           0.532|  0.0492|  0.671| 99.978|\n",
      "|Santa wa chuo-sen...|  null|       0.695| 0.381|    -9.7|     0.0295|      0.0337|         1.66E-4|   0.251|  0.714| 75.063|\n",
      "|Shumatsu Kyoto ge...|  null|       0.714| 0.615|   -8.46|     0.0305|       0.457|           0.617|   0.356|  0.682| 89.984|\n",
      "|Kamikakushi no sh...|  null|       0.516| 0.674| -12.215|     0.0372|       0.791|           0.896|  0.0827|  0.556|169.928|\n",
      "|              Parade|  null|       0.533| 0.817|  -8.564|     0.0271|      0.0708|           0.523|   0.357|  0.761| 105.01|\n",
      "|             Morning|  null|       0.478| 0.799|  -9.396|     0.0302|      0.0448|           0.871|   0.211|  0.924|117.979|\n",
      "+--------------------+------+------------+------+--------+-----------+------------+----------------+--------+-------+-------+\n",
      "only showing top 20 rows\n",
      "\n"
     ]
    }
   ],
   "source": [
    "#rename df.track_name to df.name\n",
    "df = df.withColumnRenamed(\"track_name\", \"name\")\n",
    "df = df.withColumnRenamed(\"artist_name\", \"artist\")\n",
    "\n",
    "cols = ['name', 'artist', 'danceability', 'energy', 'key', 'loudness', 'mode', 'speechiness', 'acousticness', 'instrumentalness', 'liveness', 'valence', 'tempo', 'duration_ms']\n",
    "\n",
    "cols_drop = ['track_id','album_image','timestamp','mode']\n",
    "\n",
    "df_new = df.drop(*cols_drop)\n",
    "\n",
    "df_new.show()"
   ]
  },
  {
   "cell_type": "code",
   "execution_count": 44,
   "metadata": {},
   "outputs": [
    {
     "name": "stdout",
     "output_type": "stream",
     "text": [
      "+--------------------+------+----------+\n",
      "|                name|artist|prediction|\n",
      "+--------------------+------+----------+\n",
      "|   bloom. [intro...]|  null|         1|\n",
      "|          Cloud Nine|  null|         1|\n",
      "|    Faithful Mission|  null|         1|\n",
      "|           Afternoon|  null|         2|\n",
      "|            nice day|  null|         1|\n",
      "|      Lazy Afternoon|  null|         1|\n",
      "|             Tanpopo|  null|         1|\n",
      "|          In My Head|  null|         1|\n",
      "|            Sidewalk|  null|         1|\n",
      "|             2:23 AM|  null|         0|\n",
      "|                lazy|  null|         1|\n",
      "|            I'm Fine|  null|         1|\n",
      "|             3:03 PM|  null|         1|\n",
      "|          You and Me|  null|         1|\n",
      "|Samishii obake to...|  null|         1|\n",
      "|Santa wa chuo-sen...|  null|         0|\n",
      "|Shumatsu Kyoto ge...|  null|         0|\n",
      "|              Parade|  null|         0|\n",
      "|Kamikakushi no sh...|  null|         1|\n",
      "|             Morning|  null|         0|\n",
      "+--------------------+------+----------+\n",
      "only showing top 20 rows\n",
      "\n"
     ]
    }
   ],
   "source": [
    "df_predict_scaled = pipeline.fit(df_new).transform(df_new)\n",
    "\n",
    "df_predict = df_predict_scaled.select(\"name\", \"artist\", \"prediction\")\n",
    "\n",
    "df_predict.show()"
   ]
  },
  {
   "cell_type": "code",
   "execution_count": 47,
   "metadata": {},
   "outputs": [
    {
     "name": "stdout",
     "output_type": "stream",
     "text": [
      "+--------------------+-------------------+------------+------+--------+-----------+------------+----------------+--------+-------+-------+--------------------+--------------------+----------+\n",
      "|                name|             artist|danceability|energy|loudness|speechiness|acousticness|instrumentalness|liveness|valence|  tempo|            features|        standardized|prediction|\n",
      "+--------------------+-------------------+------------+------+--------+-----------+------------+----------------+--------+-------+-------+--------------------+--------------------+----------+\n",
      "|Let This Love Lie...|[First and Forever]|        0.49| 0.857|  -3.783|     0.0601|     6.15E-5|             0.0|   0.113|  0.249|107.527|[0.49,0.857,-3.78...|[3.27421313649401...|         2|\n",
      "|    In Loving Memory|[First and Forever]|       0.371| 0.937|  -3.542|     0.0512|     4.43E-5|             0.0|   0.538|  0.628| 84.771|[0.371,0.937,-3.5...|[2.47904708905975...|         2|\n",
      "|               VIVID| [Rich Brian, $NOT]|       0.571| 0.661|   -9.03|      0.047|       0.321|         1.44E-5|   0.141|  0.385|160.063|[0.571,0.661,-9.0...|[3.81546061415935...|         2|\n",
      "|             Vintage|             [NIKI]|       0.771| 0.816|  -7.104|     0.0581|      0.0114|         9.63E-4|   0.339|  0.438|104.958|[0.771,0.816,-7.1...|[5.15187413925895...|         2|\n",
      "|         100 Degrees|       [Rich Brian]|       0.756| 0.648|  -5.287|     0.0731|       0.118|             0.0|   0.515|  0.657| 80.979|[0.756,0.648,-5.2...|[5.05164312487648...|         2|\n",
      "+--------------------+-------------------+------------+------+--------+-----------+------------+----------------+--------+-------+-------+--------------------+--------------------+----------+\n",
      "\n"
     ]
    }
   ],
   "source": [
    "#show the songs in the same cluster\n",
    "output_df.filter(output_df.prediction == 2).limit(5).show()"
   ]
  }
 ],
 "metadata": {
  "kernelspec": {
   "display_name": "Python 3",
   "language": "python",
   "name": "python3"
  },
  "language_info": {
   "codemirror_mode": {
    "name": "ipython",
    "version": 3
   },
   "file_extension": ".py",
   "mimetype": "text/x-python",
   "name": "python",
   "nbconvert_exporter": "python",
   "pygments_lexer": "ipython3",
   "version": "3.7.4"
  },
  "vscode": {
   "interpreter": {
    "hash": "7e9b8e52f303c93a13f8d6d945738d91211aad0184906d5189f93e8d39255a5b"
   }
  }
 },
 "nbformat": 4,
 "nbformat_minor": 2
}
